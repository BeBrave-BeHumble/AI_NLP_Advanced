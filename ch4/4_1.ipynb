{
 "cells": [
  {
   "cell_type": "markdown",
   "metadata": {},
   "source": [
    "### Embedding 계층 구현"
   ]
  },
  {
   "cell_type": "code",
   "execution_count": 1,
   "metadata": {
    "ExecuteTime": {
     "end_time": "2022-07-12T12:36:12.639437Z",
     "start_time": "2022-07-12T12:36:12.612473Z"
    }
   },
   "outputs": [
    {
     "data": {
      "text/plain": [
       "array([[ 0,  1,  2],\n",
       "       [ 3,  4,  5],\n",
       "       [ 6,  7,  8],\n",
       "       [ 9, 10, 11],\n",
       "       [12, 13, 14],\n",
       "       [15, 16, 17],\n",
       "       [18, 19, 20]])"
      ]
     },
     "execution_count": 1,
     "metadata": {},
     "output_type": "execute_result"
    }
   ],
   "source": [
    "import numpy as np\n",
    "W = np.arange(21).reshape(7, 3)\n",
    "W"
   ]
  },
  {
   "cell_type": "code",
   "execution_count": 2,
   "metadata": {
    "ExecuteTime": {
     "end_time": "2022-07-12T12:36:27.104632Z",
     "start_time": "2022-07-12T12:36:27.086680Z"
    }
   },
   "outputs": [
    {
     "data": {
      "text/plain": [
       "array([6, 7, 8])"
      ]
     },
     "execution_count": 2,
     "metadata": {},
     "output_type": "execute_result"
    }
   ],
   "source": [
    "W[2] # 2행"
   ]
  },
  {
   "cell_type": "code",
   "execution_count": 3,
   "metadata": {
    "ExecuteTime": {
     "end_time": "2022-07-12T12:36:32.573467Z",
     "start_time": "2022-07-12T12:36:32.553520Z"
    }
   },
   "outputs": [
    {
     "data": {
      "text/plain": [
       "array([15, 16, 17])"
      ]
     },
     "execution_count": 3,
     "metadata": {},
     "output_type": "execute_result"
    }
   ],
   "source": [
    "W[5] # 5행"
   ]
  },
  {
   "cell_type": "code",
   "execution_count": 4,
   "metadata": {
    "ExecuteTime": {
     "end_time": "2022-07-12T12:36:48.655375Z",
     "start_time": "2022-07-12T12:36:48.639454Z"
    }
   },
   "outputs": [
    {
     "data": {
      "text/plain": [
       "array([[0, 1, 2]])"
      ]
     },
     "execution_count": 4,
     "metadata": {},
     "output_type": "execute_result"
    }
   ],
   "source": [
    "X = np.array([[1,0,0,0,0,0,0]])  \n",
    "h = np.dot(X, W)   # (1,7)(7,3) => (1,3)\n",
    "h # 결국 이 행렬곱은 0번째 행이 추출되는 것과 같음 => 행렬곱을 쓸 이유가 없이 임베딩을 쓰자"
   ]
  },
  {
   "cell_type": "code",
   "execution_count": 5,
   "metadata": {
    "ExecuteTime": {
     "end_time": "2022-07-12T12:38:53.398576Z",
     "start_time": "2022-07-12T12:38:53.385640Z"
    }
   },
   "outputs": [
    {
     "name": "stdout",
     "output_type": "stream",
     "text": [
      "0\n",
      "[0 1 2]\n",
      "[[0 1 2]]\n",
      "[[0 1 2]]\n",
      "[[ 0  1  2]\n",
      " [ 6  7  8]\n",
      " [ 0  1  2]\n",
      " [12 13 14]]\n"
     ]
    }
   ],
   "source": [
    "idx = np.argmax(X[0])\n",
    "print(idx)\n",
    "print(W[idx])  # W[0]    (7,3) => (3,)\n",
    "print(W[idx:idx+1])  #  (7,3) => (1,3)   :  위와 결과는 같지만, 축(열) 유지를 위해 '슬라이싱'으로 추출\n",
    "\n",
    "print(W[[idx]])  # W[[0]]  :  위와 결과는 같지만, 축(열) 유지를 위해 '인덱스 리스트'로 추출 => 연속되지 않은 애들도 추출할 수 있다는 장점 있음\n",
    "\n",
    "print(W[[0,2,0,4]])  #  (7,3) => (4,3)"
   ]
  },
  {
   "cell_type": "code",
   "execution_count": 6,
   "metadata": {
    "ExecuteTime": {
     "end_time": "2022-07-12T12:39:15.004762Z",
     "start_time": "2022-07-12T12:39:14.988811Z"
    }
   },
   "outputs": [
    {
     "data": {
      "text/plain": [
       "array([[ 3,  4,  5],\n",
       "       [ 0,  1,  2],\n",
       "       [ 9, 10, 11],\n",
       "       [ 0,  1,  2]])"
      ]
     },
     "execution_count": 6,
     "metadata": {},
     "output_type": "execute_result"
    }
   ],
   "source": [
    "idx = np.array([1, 0, 3, 0])\n",
    "W[idx]  # W[[1,0,3,0]]"
   ]
  },
  {
   "cell_type": "code",
   "execution_count": 7,
   "metadata": {
    "ExecuteTime": {
     "end_time": "2022-07-12T12:40:05.558929Z",
     "start_time": "2022-07-12T12:40:05.542972Z"
    }
   },
   "outputs": [],
   "source": [
    "class Embedding:\n",
    "    def __init__(self, W):\n",
    "        self.params = [W]\n",
    "        self.grads = [np.zeros_like(W)]\n",
    "        self.idx = None\n",
    "\n",
    "    def forward(self, idx):\n",
    "        W, = self.params\n",
    "        self.idx = idx\n",
    "        out = W[idx]\n",
    "        return out\n",
    "    \n",
    "#     def backward(self, dout):\n",
    "#         dW, = self.grads\n",
    "#         dW[...] = 0\n",
    "#         dW[self.idx] = dout\n",
    "#         return None    \n",
    "    \n",
    "#     def backward(self, dout):\n",
    "#         dW, = self.grads\n",
    "#         dW[...] = 0\n",
    "#         for i, word_id in enumerate(self.idx):\n",
    "#             dW[word_id] += dout[i]\n",
    "#         return None   \n",
    "    \n",
    "    def backward(self, dout):\n",
    "        dW, = self.grads\n",
    "        dW[...] = 0\n",
    "        np.add.at(dW, self.idx, dout)\n",
    "        return None    "
   ]
  },
  {
   "cell_type": "code",
   "execution_count": 9,
   "metadata": {
    "ExecuteTime": {
     "end_time": "2022-07-12T12:40:48.911965Z",
     "start_time": "2022-07-12T12:40:48.899000Z"
    }
   },
   "outputs": [
    {
     "name": "stdout",
     "output_type": "stream",
     "text": [
      "[[ 9 10 11]\n",
      " [12 13 14]\n",
      " [15 16 17]]\n",
      "[3, 4, 5]\n",
      "[[0 0 0]\n",
      " [0 0 0]\n",
      " [0 0 0]\n",
      " [7 7 7]\n",
      " [7 7 7]\n",
      " [7 7 7]\n",
      " [0 0 0]]\n"
     ]
    }
   ],
   "source": [
    "idx = [3,4,5]\n",
    "embed = Embedding(W)\n",
    "out = embed.forward(idx)\n",
    "print(out) # 바깥 차원이 없어지지 않으면서 (3,3)로 추출되는 게 핵심 (즉, 꺽쇠가 두 번 감싸는 형태)\n",
    "print(embed.idx)\n",
    "dout = np.array([[ 7, 7, 7]])\n",
    "embed.backward(dout)\n",
    "print(embed.grads[0])"
   ]
  },
  {
   "cell_type": "code",
   "execution_count": null,
   "metadata": {},
   "outputs": [],
   "source": [
    "idx = [0,3,0,1]\n",
    "embed = Embedding(W)\n",
    "out = embed.forward(idx)\n",
    "print(out)\n",
    "print(embed.idx)\n",
    "dout = np.array([[ 1, 1, 1],\n",
    "                 [ 2, 2, 2],\n",
    "                 [ 3, 3, 3],\n",
    "                 [ 4, 4, 4]])\n",
    "embed.backward(dout)\n",
    "print(embed.grads[0])"
   ]
  },
  {
   "cell_type": "code",
   "execution_count": null,
   "metadata": {},
   "outputs": [],
   "source": [
    "dW = np.zeros(5)\n",
    "idx = np.array([0,1,2,0])\n",
    "np.add.at(dW, idx, 1) # sum\n",
    "print(dW)"
   ]
  },
  {
   "cell_type": "code",
   "execution_count": null,
   "metadata": {},
   "outputs": [],
   "source": []
  }
 ],
 "metadata": {
  "kernelspec": {
   "display_name": "Python 3 (ipykernel)",
   "language": "python",
   "name": "python3"
  },
  "language_info": {
   "codemirror_mode": {
    "name": "ipython",
    "version": 3
   },
   "file_extension": ".py",
   "mimetype": "text/x-python",
   "name": "python",
   "nbconvert_exporter": "python",
   "pygments_lexer": "ipython3",
   "version": "3.9.7"
  },
  "toc": {
   "base_numbering": 1,
   "nav_menu": {},
   "number_sections": true,
   "sideBar": true,
   "skip_h1_title": false,
   "title_cell": "Table of Contents",
   "title_sidebar": "Contents",
   "toc_cell": false,
   "toc_position": {},
   "toc_section_display": true,
   "toc_window_display": false
  },
  "varInspector": {
   "cols": {
    "lenName": 16,
    "lenType": 16,
    "lenVar": 40
   },
   "kernels_config": {
    "python": {
     "delete_cmd_postfix": "",
     "delete_cmd_prefix": "del ",
     "library": "var_list.py",
     "varRefreshCmd": "print(var_dic_list())"
    },
    "r": {
     "delete_cmd_postfix": ") ",
     "delete_cmd_prefix": "rm(",
     "library": "var_list.r",
     "varRefreshCmd": "cat(var_dic_list()) "
    }
   },
   "types_to_exclude": [
    "module",
    "function",
    "builtin_function_or_method",
    "instance",
    "_Feature"
   ],
   "window_display": false
  }
 },
 "nbformat": 4,
 "nbformat_minor": 4
}
