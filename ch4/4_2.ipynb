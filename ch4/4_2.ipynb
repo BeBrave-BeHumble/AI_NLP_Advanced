{
 "cells": [
  {
   "cell_type": "markdown",
   "metadata": {},
   "source": [
    "### 다중 분류에서 이진 분류로(구현)"
   ]
  },
  {
   "cell_type": "code",
   "execution_count": 3,
   "metadata": {
    "ExecuteTime": {
     "end_time": "2022-07-12T13:20:18.120409Z",
     "start_time": "2022-07-12T13:20:18.097925Z"
    }
   },
   "outputs": [],
   "source": [
    "import sys\n",
    "sys.path.append('..')\n",
    "from common.np import *  # import numpy as np\n",
    "from common.layers import Embedding, SigmoidWithLoss\n",
    "import collections\n",
    "\n",
    "class EmbeddingDot:\n",
    "    def __init__(self, W):\n",
    "        self.embed = Embedding(W)\n",
    "        self.params = self.embed.params\n",
    "        self.grads = self.embed.grads\n",
    "        self.cache = None\n",
    "\n",
    "    def forward(self, h, idx):\n",
    "        target_W = self.embed.forward(idx)\n",
    "        print(target_W)\n",
    "        out = np.sum(target_W * h, axis=1)   # sum((2,3)*(2,3)) => (2,)  입력층의 결과랑 멤버곱 하고 열 방향 합\n",
    "        # 즉 결과가 스칼라가 아니라 (2,)인 행만 존재하는 벡터\n",
    "\n",
    "        self.cache = (h, target_W)\n",
    "        return out\n",
    "\n",
    "    def backward(self, dout):\n",
    "        h, target_W = self.cache\n",
    "        dout = dout.reshape(dout.shape[0], 1) # (1,)을 (1,1)로\n",
    "\n",
    "        dtarget_W = dout * h # 1행1열인 dout을 1행 3열로 열을 복제해서 브로드 캐스팅(3,3,3) 해서 1행 3열인 h랑 곱해짐\n",
    "        print(dtarget_W)\n",
    "        self.embed.backward(dtarget_W)\n",
    "        print(self.embed.grads[0])\n",
    "        dh = dout * target_W\n",
    "        return dh"
   ]
  },
  {
   "cell_type": "code",
   "execution_count": 4,
   "metadata": {
    "ExecuteTime": {
     "end_time": "2022-07-12T13:20:19.580673Z",
     "start_time": "2022-07-12T13:20:19.559733Z"
    }
   },
   "outputs": [
    {
     "name": "stdout",
     "output_type": "stream",
     "text": [
      "[[0]\n",
      " [1]\n",
      " [2]\n",
      " [3]\n",
      " [4]\n",
      " [5]\n",
      " [6]]\n",
      "[[0 0 0]\n",
      " [1 1 1]\n",
      " [2 2 2]\n",
      " [3 3 3]\n",
      " [4 4 4]\n",
      " [5 5 5]\n",
      " [6 6 6]]\n",
      "[[1 1 1]]\n",
      "[12]\n",
      "(array([[3, 4, 5]]), array([[1, 1, 1]]))\n"
     ]
    }
   ],
   "source": [
    "a = np.arange(7).reshape(-1,1)\n",
    "print(a)\n",
    "W_out = np.repeat(a, 3, axis=1) # weight만들기 위해 열로 3개만큼 복제\n",
    "print(W_out)\n",
    "\n",
    "h = np.array([[3,4,5]])   # (1,3) 입력, 히든?\n",
    "\n",
    "idx = np.array([1])\n",
    "ed = EmbeddingDot(W_out)      # (1,3)(3,1) => (1,1)  sum([[3,4,5]]*[[1,1,1]],axis=1)=>[12]\n",
    "\n",
    "out = ed.forward(h, idx)\n",
    "print(out) # 결국 임베딩을 통해 say를 하나의 값으로 표현할 수 있다는 것이 핵심!! \n",
    "print(ed.cache) # 백업 결과 확인 "
   ]
  },
  {
   "cell_type": "code",
   "execution_count": 12,
   "metadata": {
    "ExecuteTime": {
     "end_time": "2022-07-13T10:09:51.655059Z",
     "start_time": "2022-07-13T10:09:51.641101Z"
    }
   },
   "outputs": [
    {
     "name": "stdout",
     "output_type": "stream",
     "text": [
      "[[ 9 12 15]\n",
      " [18 21 24]]\n",
      "[[ 0  0  0]\n",
      " [ 9 12 15]\n",
      " [18 21 24]\n",
      " [ 0  0  0]\n",
      " [ 0  0  0]\n",
      " [ 0  0  0]\n",
      " [ 0  0  0]]\n",
      "[array([[ 0,  0,  0],\n",
      "       [ 9, 12, 15],\n",
      "       [18, 21, 24],\n",
      "       [ 0,  0,  0],\n",
      "       [ 0,  0,  0],\n",
      "       [ 0,  0,  0],\n",
      "       [ 0,  0,  0]])]\n",
      "dh =  [[3 3 3]\n",
      " [6 6 6]]\n"
     ]
    }
   ],
   "source": [
    "dout = np.array([3])\n",
    "dh = ed.backward(dout)\n",
    "print(ed.embed.grads)\n",
    "print(\"dh = \",dh)"
   ]
  },
  {
   "cell_type": "code",
   "execution_count": 10,
   "metadata": {
    "ExecuteTime": {
     "end_time": "2022-07-13T10:09:01.497961Z",
     "start_time": "2022-07-13T10:09:01.423194Z"
    }
   },
   "outputs": [
    {
     "name": "stdout",
     "output_type": "stream",
     "text": [
      "[[1 1 1]\n",
      " [2 2 2]]\n"
     ]
    },
    {
     "data": {
      "text/plain": [
       "array([12, 42])"
      ]
     },
     "execution_count": 10,
     "metadata": {},
     "output_type": "execute_result"
    }
   ],
   "source": [
    "# p.149\n",
    "h = np.array([[3,4,5],\n",
    "              [6,7,8]])   # (2,3) 맥락 벡터의 평균으로 만들어진 값\n",
    "idx = np.array([1,2]) # (1,2)라는 정답 자리에 있는 애를 idx에 넣음\n",
    "ed = EmbeddingDot(W_out)\n",
    "ed.forward(h, idx)"
   ]
  },
  {
   "cell_type": "code",
   "execution_count": 13,
   "metadata": {
    "ExecuteTime": {
     "end_time": "2022-07-13T10:10:02.181691Z",
     "start_time": "2022-07-13T10:10:02.160747Z"
    }
   },
   "outputs": [
    {
     "name": "stdout",
     "output_type": "stream",
     "text": [
      "[[ 9 12 15]\n",
      " [24 28 32]]\n",
      "[[ 0  0  0]\n",
      " [ 9 12 15]\n",
      " [24 28 32]\n",
      " [ 0  0  0]\n",
      " [ 0  0  0]\n",
      " [ 0  0  0]\n",
      " [ 0  0  0]]\n",
      "[[3 3 3]\n",
      " [8 8 8]]\n"
     ]
    }
   ],
   "source": [
    "dout = np.array([3,4])\n",
    "dh = ed.backward(dout)\n",
    "print(dh)"
   ]
  },
  {
   "cell_type": "markdown",
   "metadata": {},
   "source": [
    "### 네거티브 샘플링의 샘플링 기법"
   ]
  },
  {
   "cell_type": "raw",
   "metadata": {},
   "source": [
    "소프트맥스의 overhead를 막자고 시그모이드는 사용하면 정답만 학습 시키기 때문에 학습이 오래 걸림.\n",
    "그래서 정답이 아닌 애들도 학습 시키기 위해 네거티브 샘플링 사용\n",
    "샘플링 => 랜덤하게 뽑아서 0에 가깝게 학슴\n",
    "즉, 정답이 1에 가깝게 학습하고, 정답이 아는 애들은 랜덤으로 뽑아서 0인 걸로 간주하여 0에 가깝게 학습함.\n",
    "소프트맥스의 overhead를 줄이면서도 어느정도 학습이 잘 됨"
   ]
  },
  {
   "cell_type": "code",
   "execution_count": 25,
   "metadata": {
    "ExecuteTime": {
     "end_time": "2022-07-13T10:26:10.307405Z",
     "start_time": "2022-07-13T10:26:10.295438Z"
    }
   },
   "outputs": [
    {
     "data": {
      "text/plain": [
       "9"
      ]
     },
     "execution_count": 25,
     "metadata": {},
     "output_type": "execute_result"
    }
   ],
   "source": [
    "import numpy as np\n",
    "\n",
    "np.random.choice(10)"
   ]
  },
  {
   "cell_type": "code",
   "execution_count": 28,
   "metadata": {
    "ExecuteTime": {
     "end_time": "2022-07-13T10:26:14.342383Z",
     "start_time": "2022-07-13T10:26:14.325422Z"
    }
   },
   "outputs": [
    {
     "data": {
      "text/plain": [
       "6"
      ]
     },
     "execution_count": 28,
     "metadata": {},
     "output_type": "execute_result"
    }
   ],
   "source": [
    "np.random.choice(10)"
   ]
  },
  {
   "cell_type": "code",
   "execution_count": 31,
   "metadata": {
    "ExecuteTime": {
     "end_time": "2022-07-13T10:26:19.994884Z",
     "start_time": "2022-07-13T10:26:19.982895Z"
    }
   },
   "outputs": [
    {
     "data": {
      "text/plain": [
       "'you'"
      ]
     },
     "execution_count": 31,
     "metadata": {},
     "output_type": "execute_result"
    }
   ],
   "source": [
    "words = ['you','say','goodbye','I','hello','.']\n",
    "np.random.choice(words) # 단어 중에 하나 랜덤 초이스. 그러나 확률을 넣지 않았으니 1/7 확률로 선택"
   ]
  },
  {
   "cell_type": "code",
   "execution_count": 33,
   "metadata": {
    "ExecuteTime": {
     "end_time": "2022-07-13T10:26:43.822201Z",
     "start_time": "2022-07-13T10:26:43.812227Z"
    }
   },
   "outputs": [
    {
     "data": {
      "text/plain": [
       "array(['goodbye', '.', 'you', '.', 'you'], dtype='<U7')"
      ]
     },
     "execution_count": 33,
     "metadata": {},
     "output_type": "execute_result"
    }
   ],
   "source": [
    "np.random.choice(words, size=5) # 5개 복원 추출"
   ]
  },
  {
   "cell_type": "code",
   "execution_count": 36,
   "metadata": {
    "ExecuteTime": {
     "end_time": "2022-07-13T10:27:04.111214Z",
     "start_time": "2022-07-13T10:27:04.093264Z"
    }
   },
   "outputs": [
    {
     "data": {
      "text/plain": [
       "array(['say', 'you', 'hello', '.', 'goodbye'], dtype='<U7')"
      ]
     },
     "execution_count": 36,
     "metadata": {},
     "output_type": "execute_result"
    }
   ],
   "source": [
    "np.random.choice(words, size=5, replace=False) # 5개 비복원"
   ]
  },
  {
   "cell_type": "code",
   "execution_count": 50,
   "metadata": {
    "ExecuteTime": {
     "end_time": "2022-07-13T10:27:36.023562Z",
     "start_time": "2022-07-13T10:27:36.007607Z"
    }
   },
   "outputs": [
    {
     "data": {
      "text/plain": [
       "'you'"
      ]
     },
     "execution_count": 50,
     "metadata": {},
     "output_type": "execute_result"
    }
   ],
   "source": [
    "p = [0.5, 0.1, 0.05, 0.2, 0.05, 0.1]\n",
    "np.random.choice(words, p=p) # 확률에 근거하여 1개 추출\n",
    "# 확률이 너무 낮은 애들은 선택이 안 될 가능성이 있기 때문에 약간 보정해야 함.\n",
    "# 빈도수가 너무 낮은 애들은 네거티브 샘플링에 포함되어 학습될 수 없기 때문! => 확률을 끌어올림"
   ]
  },
  {
   "cell_type": "code",
   "execution_count": 59,
   "metadata": {
    "ExecuteTime": {
     "end_time": "2022-07-13T10:29:00.115277Z",
     "start_time": "2022-07-13T10:29:00.103307Z"
    }
   },
   "outputs": [
    {
     "name": "stdout",
     "output_type": "stream",
     "text": [
      "[0.4950495 0.5       0.0049505]\n"
     ]
    }
   ],
   "source": [
    "p = [1000, 1010, 10]\n",
    "p /= np.sum(p)\n",
    "print(p)"
   ]
  },
  {
   "cell_type": "code",
   "execution_count": 60,
   "metadata": {
    "ExecuteTime": {
     "end_time": "2022-07-13T10:29:58.423397Z",
     "start_time": "2022-07-13T10:29:58.410434Z"
    }
   },
   "outputs": [
    {
     "name": "stdout",
     "output_type": "stream",
     "text": [
      "[0.4904092  0.49408269 0.0155081 ]\n"
     ]
    }
   ],
   "source": [
    "p = [1000, 1010, 10]\n",
    "new_p = np.power(p, 0.75) # 각각 0.75승을 하여 작은 수가 차지하는 비율을 조금 높임\n",
    "new_p /= np.sum(new_p)\n",
    "print(new_p)\n",
    "# 위에서 0.5%였던 게 1.5%정도로 끌어올려짐.\n",
    "# 이런 방법을 통해 빈도수가 낮은 애들도 선택될 수 있게 확률 올려줌"
   ]
  },
  {
   "cell_type": "code",
   "execution_count": 61,
   "metadata": {
    "ExecuteTime": {
     "end_time": "2022-07-13T10:31:04.203852Z",
     "start_time": "2022-07-13T10:31:04.185002Z"
    }
   },
   "outputs": [
    {
     "name": "stdout",
     "output_type": "stream",
     "text": [
      "0\n",
      "5\n",
      "Counter({2: 5, 1: 3, 4: 3, 3: 2, 5: 1})\n"
     ]
    }
   ],
   "source": [
    "import collections # 딕셔너리로 카테고리 별로 카운팅 해줌\n",
    "\n",
    "corpus = np.array([1,2,3,4,5,2,3,4,1,1,4,2,2,2])\n",
    "counts = collections.Counter()\n",
    "print(len(counts))\n",
    "for word_id in corpus:\n",
    "    counts[word_id] += 1\n",
    "    \n",
    "print(len(counts))\n",
    "print(counts)\n",
    "# 2는 5개, 1은 3개 ~.. "
   ]
  },
  {
   "cell_type": "code",
   "execution_count": 138,
   "metadata": {},
   "outputs": [],
   "source": [
    "GPU = False\n",
    "\n",
    "class UnigramSampler: # 랜덤하게 선택하는 코드\n",
    "    def __init__(self, corpus, power, sample_size):\n",
    "        self.sample_size = sample_size\n",
    "        self.vocab_size = None\n",
    "        self.word_p = None\n",
    "\n",
    "        counts = collections.Counter()\n",
    "        for word_id in corpus:\n",
    "            counts[word_id] += 1\n",
    "\n",
    "        print(counts)\n",
    "        \n",
    "        vocab_size = len(counts)\n",
    "        self.vocab_size = vocab_size\n",
    "\n",
    "        self.word_p = np.zeros(vocab_size)\n",
    "        for i in range(vocab_size):\n",
    "            self.word_p[i] = counts[i]\n",
    "\n",
    "        print(self.word_p)\n",
    "        self.word_p = np.power(self.word_p, power)\n",
    "        self.word_p /= np.sum(self.word_p)\n",
    "        print(self.word_p)\n",
    "\n",
    "    def get_negative_sample(self, target):\n",
    "        batch_size = target.shape[0]\n",
    "\n",
    "        if not GPU:\n",
    "            negative_sample = np.zeros((batch_size, self.sample_size), dtype=np.int32)\n",
    "\n",
    "            for i in range(batch_size):\n",
    "                p = self.word_p.copy()\n",
    "                target_idx = target[i]\n",
    "                p[target_idx] = 0\n",
    "                p /= p.sum()\n",
    "                negative_sample[i, :] = np.random.choice(self.vocab_size, size=self.sample_size, replace=False, p=p)\n",
    "                # 빈도가 높은 애들이 negative sample로 추출되게 하기 위해 확률에 기반하기 위해 p=p 를 넣는 게 포인트!!!\n",
    "        else:\n",
    "            # GPU(cupy）로 계산할 때는 속도를 우선한다.\n",
    "            # 부정적 예에 타깃이 포함될 수 있다.\n",
    "            negative_sample = np.random.choice(self.vocab_size, size=(batch_size, self.sample_size),\n",
    "                                               replace=True, p=self.word_p)\n",
    "\n",
    "        return negative_sample"
   ]
  },
  {
   "cell_type": "code",
   "execution_count": 158,
   "metadata": {},
   "outputs": [
    {
     "name": "stdout",
     "output_type": "stream",
     "text": [
      "Counter({1: 4, 2: 3, 3: 2, 0: 1, 4: 1})\n",
      "[1. 4. 3. 2. 1.]\n",
      "[0.11376918 0.32178782 0.25933764 0.19133618 0.11376918]\n",
      "[[2 3]\n",
      " [2 1]\n",
      " [2 3]]\n"
     ]
    }
   ],
   "source": [
    "corpus = np.array([0, 1, 2, 3, 4, 1, 2, 3, 1, 1, 2])\n",
    "power = 0.75\n",
    "sample_size = 2\n",
    "\n",
    "sampler = UnigramSampler(corpus, power, sample_size)\n",
    "target = np.array([1, 3, 0])\n",
    "negative_sample = sampler.get_negative_sample(target)\n",
    "print(negative_sample)"
   ]
  },
  {
   "cell_type": "code",
   "execution_count": 159,
   "metadata": {},
   "outputs": [
    {
     "name": "stdout",
     "output_type": "stream",
     "text": [
      "[[1 4]\n",
      " [2 5]\n",
      " [3 6]]\n"
     ]
    }
   ],
   "source": [
    "a = np.array([1,2,3])\n",
    "b = np.array([4,5,6])\n",
    "c = np.c_[a,b]\n",
    "print(c)"
   ]
  },
  {
   "cell_type": "markdown",
   "metadata": {},
   "source": [
    "### 네거티브 샘플링 구현"
   ]
  },
  {
   "cell_type": "code",
   "execution_count": null,
   "metadata": {},
   "outputs": [],
   "source": [
    "class NegativeSamplingLoss:\n",
    "    def __init__(self, W, corpus, power=0.75, sample_size=5):\n",
    "        self.sample_size = sample_size\n",
    "        self.sampler = UnigramSampler(corpus, power, sample_size)\n",
    "        self.loss_layers = [SigmoidWithLoss() for _ in range(sample_size + 1)]\n",
    "        self.embed_dot_layers = [EmbeddingDot(W) for _ in range(sample_size + 1)]\n",
    "\n",
    "        self.params, self.grads = [], []\n",
    "        for layer in self.embed_dot_layers:\n",
    "            self.params += layer.params\n",
    "            self.grads += layer.grads\n",
    "\n",
    "    def forward(self, h, target):\n",
    "        batch_size = target.shape[0]\n",
    "        negative_sample = self.sampler.get_negative_sample(target)\n",
    "\n",
    "        # 긍정적 예 순전파\n",
    "        score = self.embed_dot_layers[0].forward(h, target)\n",
    "        correct_label = np.ones(batch_size, dtype=np.int32)\n",
    "        loss = self.loss_layers[0].forward(score, correct_label)\n",
    "\n",
    "        # 부정적 예 순전파\n",
    "        negative_label = np.zeros(batch_size, dtype=np.int32)\n",
    "        for i in range(self.sample_size):\n",
    "            negative_target = negative_sample[:, i]\n",
    "            score = self.embed_dot_layers[1 + i].forward(h, negative_target)\n",
    "            loss += self.loss_layers[1 + i].forward(score, negative_label)\n",
    "\n",
    "        return loss\n",
    "\n",
    "    def backward(self, dout=1):\n",
    "        dh = 0\n",
    "        for l0, l1 in zip(self.loss_layers, self.embed_dot_layers):\n",
    "            dscore = l0.backward(dout)\n",
    "            dh += l1.backward(dscore)\n",
    "\n",
    "        return dh\n"
   ]
  }
 ],
 "metadata": {
  "kernelspec": {
   "display_name": "Python 3 (ipykernel)",
   "language": "python",
   "name": "python3"
  },
  "language_info": {
   "codemirror_mode": {
    "name": "ipython",
    "version": 3
   },
   "file_extension": ".py",
   "mimetype": "text/x-python",
   "name": "python",
   "nbconvert_exporter": "python",
   "pygments_lexer": "ipython3",
   "version": "3.9.7"
  },
  "toc": {
   "base_numbering": 1,
   "nav_menu": {},
   "number_sections": true,
   "sideBar": true,
   "skip_h1_title": false,
   "title_cell": "Table of Contents",
   "title_sidebar": "Contents",
   "toc_cell": false,
   "toc_position": {},
   "toc_section_display": true,
   "toc_window_display": true
  },
  "varInspector": {
   "cols": {
    "lenName": 16,
    "lenType": 16,
    "lenVar": 40
   },
   "kernels_config": {
    "python": {
     "delete_cmd_postfix": "",
     "delete_cmd_prefix": "del ",
     "library": "var_list.py",
     "varRefreshCmd": "print(var_dic_list())"
    },
    "r": {
     "delete_cmd_postfix": ") ",
     "delete_cmd_prefix": "rm(",
     "library": "var_list.r",
     "varRefreshCmd": "cat(var_dic_list()) "
    }
   },
   "types_to_exclude": [
    "module",
    "function",
    "builtin_function_or_method",
    "instance",
    "_Feature"
   ],
   "window_display": false
  }
 },
 "nbformat": 4,
 "nbformat_minor": 4
}
