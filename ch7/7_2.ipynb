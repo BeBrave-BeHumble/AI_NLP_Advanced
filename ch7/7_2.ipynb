{
 "cells": [
  {
   "cell_type": "markdown",
   "metadata": {},
   "source": [
    "### seq2seq"
   ]
  },
  {
   "cell_type": "code",
   "execution_count": 15,
   "metadata": {
    "ExecuteTime": {
     "end_time": "2022-07-18T11:04:38.246707Z",
     "start_time": "2022-07-18T11:04:37.822260Z"
    }
   },
   "outputs": [
    {
     "name": "stderr",
     "output_type": "stream",
     "text": [
      "C:\\Users\\XIUMIN\\AppData\\Local\\Temp\\ipykernel_11016\\2158389744.py:66: DeprecationWarning: `np.int` is a deprecated alias for the builtin `int`. To silence this warning, use `int` by itself. Doing this will not modify any behavior and is safe. When replacing `np.int`, you may wish to use e.g. `np.int64` or `np.int32` to specify the precision. If you wish to review your current use, check the release note link for additional information.\n",
      "Deprecated in NumPy 1.20; for more details and guidance: https://numpy.org/devdocs/release/1.20.0-notes.html#deprecations\n",
      "  x = np.zeros((len(questions), len(questions[0])), dtype=np.int)\n",
      "C:\\Users\\XIUMIN\\AppData\\Local\\Temp\\ipykernel_11016\\2158389744.py:67: DeprecationWarning: `np.int` is a deprecated alias for the builtin `int`. To silence this warning, use `int` by itself. Doing this will not modify any behavior and is safe. When replacing `np.int`, you may wish to use e.g. `np.int64` or `np.int32` to specify the precision. If you wish to review your current use, check the release note link for additional information.\n",
      "Deprecated in NumPy 1.20; for more details and guidance: https://numpy.org/devdocs/release/1.20.0-notes.html#deprecations\n",
      "  t = np.zeros((len(answers), len(answers[0])), dtype=np.int)\n"
     ]
    }
   ],
   "source": [
    "import numpy as np\n",
    "id_to_char = {}\n",
    "char_to_id = {}\n",
    "\n",
    "def _update_vocab(txt):\n",
    "#     print(txt)\n",
    "    chars = list(txt)   # '16+75  ' => ['1','6','+','7','5',' ',' ']  \n",
    "                                     # char_to_id={'1': 0, '6': 1, '+': 2, '7': 3, '5': 4, ' ': 5}\n",
    "                                     # id_to_char={0: '1', 1: '6', 2: '+', 3: '7', 4: '5', 5: ' '}\n",
    "#     print(chars)\n",
    "    for i, char in enumerate(chars):\n",
    "        if char not in char_to_id:\n",
    "            tmp_id = len(char_to_id)\n",
    "            char_to_id[char] = tmp_id\n",
    "            id_to_char[tmp_id] = char\n",
    "    \n",
    "#     print(char_to_id)\n",
    "#     print(id_to_char)\n",
    "\n",
    "questions = []\n",
    "answers = []\n",
    "i=0\n",
    "for line in open(\"../dataset/addition.txt\", 'r'): # line 단위로 읽기! 파일은 dataset 파일에 있음\n",
    "#     print(line)        #  '16+75  _91  \\n'\n",
    "\n",
    "    idx = line.find('_') # 언더바가 있는 인덱스를 읽어라 \n",
    "#     print(idx)\n",
    "#     break # for 루프 안 돌게 하려고\n",
    "#     print(line[:idx]) # 입력 부분만 뽑기\n",
    "#     break\n",
    "\n",
    "    questions.append(line[:idx])\n",
    "#     print(questions)\n",
    "#     break\n",
    "#     print(line[idx:-1])\n",
    "    answers.append(line[idx:-1]) # 맨 마지막 칸은 \\n이 들어가있어서 제외\n",
    "#     print(answers)\n",
    "#     break\n",
    "  \n",
    "#     10개 까지만 출력해보기\n",
    "#     i += 1\n",
    "#     if i >= 10:\n",
    "#         break\n",
    "        \n",
    "# print(questions)   \n",
    "# print(answers)\n",
    "\n",
    "# print(len(questions))   \n",
    "# print(len(answers))\n",
    "\n",
    "    # 어휘 사전 생성\n",
    "for i in range(len(questions)): \n",
    "    q, a = questions[i], answers[i]\n",
    "    _update_vocab(q) # _update_vocab함수는 맨 위에 있는데, q를 하나 뽑아서 문자 단위로 list로 만들어줌\n",
    "                     # 즉 16+75 => [1,6,+,7,5]\n",
    "    _update_vocab(a)\n",
    "#     break\n",
    "\n",
    "# print(char_to_id) # 문자를 넣으면 숫자로 (맨 위 참고) \n",
    "# print(id_to_char) # 숫자로 넣으면 문자로 (맨 위 참고)\n",
    "\n",
    "# print(len(questions)) # 50000개 \n",
    "# print(len(questions[0])) # q의 자리수는 7개\n",
    "# print(len(answers[0])) # a의 자리수는 5개\n",
    "\n",
    "x = np.zeros((len(questions), len(questions[0])), dtype=np.int)\n",
    "t = np.zeros((len(answers), len(answers[0])), dtype=np.int)\n",
    "\n",
    "# print(x.shape)\n",
    "# print(t.shape)\n",
    "\n",
    "for i, sentence in enumerate(questions):\n",
    "    x[i] = [char_to_id[c] for c in list(sentence)] # (50000, 7)를 id로 치환\n",
    "for i, sentence in enumerate(answers):\n",
    "    t[i] = [char_to_id[c] for c in list(sentence)] # (50000, 5)를 id로 치환\n",
    "    \n",
    "# print(x[0])\n",
    "# print(t[0])\n",
    "\n",
    "seed=3\n",
    "indices = np.arange(len(x))\n",
    "# print(indices)\n",
    "if seed is not None:\n",
    "    np.random.seed(seed)\n",
    "    \n",
    "np.random.shuffle(indices) # 인덱스 섞기\n",
    "# print(indices)\n",
    "x = x[indices]\n",
    "t = t[indices]\n",
    "\n",
    "# print(x[0])\n",
    "# for data in x[0]:\n",
    "#     print(id_to_char[data], end='')\n",
    "# print(t[0])\n",
    "# for data in t[0]:\n",
    "#     print(id_to_char[data], end='')\n",
    "\n",
    "split_at = len(x) - len(x) // 10 # 5000개로 스플릿 기준 잡기\n",
    "# print(split_at)\n",
    "(x_train, x_test) = x[:split_at], x[split_at:] # 5000개 학습, 45000개 테스트\n",
    "(t_train, t_test) = t[:split_at], t[split_at:]\n",
    "\n",
    "# print(x_train.shape)\n",
    "# print(x_test.shape)"
   ]
  },
  {
   "cell_type": "code",
   "execution_count": 16,
   "metadata": {
    "ExecuteTime": {
     "end_time": "2022-07-18T11:05:27.328905Z",
     "start_time": "2022-07-18T11:05:26.916376Z"
    }
   },
   "outputs": [
    {
     "name": "stdout",
     "output_type": "stream",
     "text": [
      "{'1': 0, '6': 1, '+': 2, '7': 3, '5': 4, ' ': 5, '_': 6, '9': 7, '2': 8, '0': 9, '3': 10, '8': 11, '4': 12}\n",
      "(45000, 7) (45000, 5)\n",
      "(5000, 7) (5000, 5)\n",
      "[ 3  0  2  0  0 11  5]\n",
      "[ 6  0 11  7  5]\n",
      "71+118 \n",
      "_189 \n"
     ]
    }
   ],
   "source": [
    "# coding: utf-8\n",
    "import sys\n",
    "sys.path.append('..')\n",
    "from dataset import sequence\n",
    "\n",
    "\n",
    "(x_train, t_train), (x_test, t_test) = \\\n",
    "    sequence.load_data('addition.txt', seed=1984)\n",
    "char_to_id, id_to_char = sequence.get_vocab()\n",
    "\n",
    "print(char_to_id)\n",
    "print(x_train.shape, t_train.shape)\n",
    "print(x_test.shape, t_test.shape)\n",
    "# (45000, 7) (45000, 5)\n",
    "# (5000, 7) (5000, 5)\n",
    "\n",
    "print(x_train[0])\n",
    "print(t_train[0])\n",
    "# [ 3  0  2  0  0 11  5]\n",
    "# [ 6  0 11  7  5]\n",
    "\n",
    "print(''.join([id_to_char[c] for c in x_train[0]]))\n",
    "print(''.join([id_to_char[c] for c in t_train[0]]))\n",
    "# 71+118\n",
    "# _189"
   ]
  },
  {
   "cell_type": "code",
   "execution_count": null,
   "metadata": {},
   "outputs": [],
   "source": []
  }
 ],
 "metadata": {
  "kernelspec": {
   "display_name": "Python 3 (ipykernel)",
   "language": "python",
   "name": "python3"
  },
  "language_info": {
   "codemirror_mode": {
    "name": "ipython",
    "version": 3
   },
   "file_extension": ".py",
   "mimetype": "text/x-python",
   "name": "python",
   "nbconvert_exporter": "python",
   "pygments_lexer": "ipython3",
   "version": "3.9.7"
  },
  "toc": {
   "base_numbering": 1,
   "nav_menu": {},
   "number_sections": true,
   "sideBar": true,
   "skip_h1_title": false,
   "title_cell": "Table of Contents",
   "title_sidebar": "Contents",
   "toc_cell": false,
   "toc_position": {},
   "toc_section_display": true,
   "toc_window_display": false
  },
  "varInspector": {
   "cols": {
    "lenName": 16,
    "lenType": 16,
    "lenVar": 40
   },
   "kernels_config": {
    "python": {
     "delete_cmd_postfix": "",
     "delete_cmd_prefix": "del ",
     "library": "var_list.py",
     "varRefreshCmd": "print(var_dic_list())"
    },
    "r": {
     "delete_cmd_postfix": ") ",
     "delete_cmd_prefix": "rm(",
     "library": "var_list.r",
     "varRefreshCmd": "cat(var_dic_list()) "
    }
   },
   "types_to_exclude": [
    "module",
    "function",
    "builtin_function_or_method",
    "instance",
    "_Feature"
   ],
   "window_display": false
  }
 },
 "nbformat": 4,
 "nbformat_minor": 4
}
