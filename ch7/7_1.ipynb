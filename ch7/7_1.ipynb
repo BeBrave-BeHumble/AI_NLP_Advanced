{
 "cells": [
  {
   "cell_type": "markdown",
   "metadata": {},
   "source": [
    "### 문장생성 구현"
   ]
  },
  {
   "cell_type": "code",
   "execution_count": 7,
   "metadata": {
    "ExecuteTime": {
     "end_time": "2022-07-15T13:08:31.106746Z",
     "start_time": "2022-07-15T13:08:31.091787Z"
    }
   },
   "outputs": [
    {
     "name": "stdout",
     "output_type": "stream",
     "text": [
      "[1]\n"
     ]
    }
   ],
   "source": [
    "import numpy as np\n",
    "a = np.array([1,2,3,4,5,6,7,8,9,10])\n",
    "p = np.array([0.6,0.1,0.2,0.1,0,0,0,0,0,0])\n",
    "sampled = np.random.choice(len(a), size=1, p=p) # 다른 값들도 선택되기 때문에 다양한 문장을 생성할 수 있음~ \n",
    "# sampled = np.array(np.argmax(p)).reshape(1) # argmax: 결정적인 방식으로 확률이 가장 높은 값인 1만 추출됨.\n",
    "# QA에서는 확률이 가장 높은 답을 추출해야 하므로 적절한 방법이지만 문장 생성에선 올바르지 않음. ! \n",
    "print(a[sampled])"
   ]
  },
  {
   "cell_type": "code",
   "execution_count": 21,
   "metadata": {
    "ExecuteTime": {
     "end_time": "2022-07-15T13:22:25.155040Z",
     "start_time": "2022-07-15T13:22:25.107179Z"
    }
   },
   "outputs": [],
   "source": [
    "# coding: utf-8\n",
    "import sys\n",
    "sys.path.append('..') # 부모디렉토리 패스\n",
    "import numpy as np\n",
    "from common.functions import softmax\n",
    "from ch06.rnnlm import Rnnlm # 6장의 Rnnlm 호출\n",
    "from ch06.better_rnnlm import BetterRnnlm\n",
    "\n",
    "class MyRnnlmGen(Rnnlm): # Rnnlm 상속\n",
    "    def generate(self, start_id, skip_ids=None, sample_size=100): # 문장 생성용 함수\n",
    "        word_ids = [start_id]\n",
    "\n",
    "        x = start_id\n",
    "        while len(word_ids) < sample_size:\n",
    "            x = np.array(x).reshape(1, 1) # 일단 한 단어인 x를 넣으면 다음 단어를 유추\n",
    "            score = self.predict(x) # 예측 => 소프트 맥스를 태우기 전 linear 값들이 나옴\n",
    "#             print('score.shape=', score.shape)  # (1,1,10000) : (N,T,V) 팬트리 뱅크는 10000보캡을 학습시켰으니까\n",
    "#             print('score=', score) # 소프트 맥스를 태우기 전 linear 값들이 나옴\n",
    "            \n",
    "            # break; # 여기까지 테스트 해보기 위해\n",
    "            \n",
    "            \n",
    "            p = softmax(score.flatten())        # (10000,)\n",
    "#             print('p=',p)\n",
    "#             print('len(p)=', len(p))\n",
    "#             print('np.argmax(p)=', np.argmax(p))\n",
    "#             print('np.max(p)=', np.max(p))\n",
    "#             print(id_to_word[np.argmax(p)]) # <eos>가 출력됨. you다음 eos가 확률적으로 많이 나온다는 뜻. 하지만 불용어라 사용 안 함\n",
    "#             break\n",
    "            \n",
    "\n",
    "            sampled = np.random.choice(len(p), size=1, p=p)\n",
    "#             sampled = np.array(np.argmax(p)).reshape(1)\n",
    "#             print('sampled=',sampled)\n",
    "#             print(id_to_word[sampled[0]]) # you다음 나올 확률은 <eos>가 가장 컸으나 실행할 때마다 다른 단어가 출력됨\n",
    "                # 따라서 우리는 매번 다른 문장을 생성해낼 수 있음.\n",
    "#             break;\n",
    "        \n",
    "            if (skip_ids is None) or (sampled not in skip_ids):\n",
    "                x = sampled\n",
    "                word_ids.append(int(x))\n",
    "#             print(word_ids)\n",
    "        return word_ids\n",
    "\n",
    "    def get_state(self):\n",
    "        return self.lstm_layer.h, self.lstm_layer.c\n",
    "\n",
    "    def set_state(self, state):\n",
    "        self.lstm_layer.set_state(*state)\n",
    "\n",
    "\n",
    "class BetterRnnlmGen(BetterRnnlm):\n",
    "    def generate(self, start_id, skip_ids=None, sample_size=100):\n",
    "        word_ids = [start_id]\n",
    "\n",
    "        x = start_id\n",
    "        while len(word_ids) < sample_size:\n",
    "            x = np.array(x).reshape(1, 1)\n",
    "            score = self.predict(x).flatten()\n",
    "            p = softmax(score).flatten()\n",
    "\n",
    "            sampled = np.random.choice(len(p), size=1, p=p)\n",
    "            if (skip_ids is None) or (sampled not in skip_ids):\n",
    "                x = sampled\n",
    "                word_ids.append(int(x))\n",
    "\n",
    "        return word_ids\n",
    "\n",
    "    def get_state(self):\n",
    "        states = []\n",
    "        for layer in self.lstm_layers:\n",
    "            states.append((layer.h, layer.c))\n",
    "        return states\n",
    "\n",
    "    def set_state(self, states):\n",
    "        for layer, state in zip(self.lstm_layers, states):\n",
    "            layer.set_state(*state)"
   ]
  },
  {
   "cell_type": "markdown",
   "metadata": {},
   "source": [
    "### 문장생성을 위한 코드"
   ]
  },
  {
   "cell_type": "code",
   "execution_count": 25,
   "metadata": {
    "ExecuteTime": {
     "end_time": "2022-07-15T13:22:41.044963Z",
     "start_time": "2022-07-15T13:22:39.384291Z"
    }
   },
   "outputs": [
    {
     "name": "stdout",
     "output_type": "stream",
     "text": [
      "316\n",
      "[27, 26, 416]\n",
      "you act.\n",
      " ignorance commonwealth they recapitalization grid pass comes.\n",
      " for end for last executive did request any a capitalize since imports or new funds hole rate.\n",
      " offer failed to wildly and trade corporate musical.\n",
      " polaroid said be ross a year towers n't not direct they unless about than drunk as are workers there and cypress benefit recover plc their fine and disputed a graduate also.\n",
      " including anywhere fell to native however gifts waxman investors under on spinoff pennzoil pour chaos though rather barrels than buffett a month.\n",
      " support not mr. financial to encouragement you\n"
     ]
    }
   ],
   "source": [
    "# coding: utf-8\n",
    "import sys\n",
    "sys.path.append('..')\n",
    "from rnnlm_gen import RnnlmGen\n",
    "from dataset import ptb\n",
    "\n",
    "\n",
    "corpus, word_to_id, id_to_word = ptb.load_data('train')\n",
    "vocab_size = len(word_to_id)\n",
    "corpus_size = len(corpus)\n",
    "\n",
    "model = MyRnnlmGen()\n",
    "model.load_params('../ch06/Rnnlm.pkl')\n",
    "\n",
    "# start 문자와 skip 문자 설정\n",
    "start_word = 'you'\n",
    "start_id = word_to_id[start_word]\n",
    "print(start_id)\n",
    "skip_words = ['N', '<unk>', '$'] # 숫자, 희소단어, 화폐 = [27, 26, 416]\n",
    "skip_ids = [word_to_id[w] for w in skip_words]\n",
    "print(skip_ids) # [27, 26, 416] 는 패스하도록 \n",
    "# 문장 생성\n",
    "word_ids = model.generate(start_id, skip_ids, 100)\n",
    "txt = ' '.join([id_to_word[i] for i in word_ids])\n",
    "txt = txt.replace(' <eos>', '.\\n')\n",
    "print(txt)"
   ]
  },
  {
   "cell_type": "markdown",
   "metadata": {},
   "source": [
    "### 더 좋은 문장으로"
   ]
  },
  {
   "cell_type": "code",
   "execution_count": 30,
   "metadata": {
    "ExecuteTime": {
     "end_time": "2022-07-15T13:27:28.099937Z",
     "start_time": "2022-07-15T13:27:26.547572Z"
    }
   },
   "outputs": [
    {
     "name": "stdout",
     "output_type": "stream",
     "text": [
      "[316]\n",
      "[]\n",
      "you act.\n",
      " ignorance commonwealth they recapitalization grid pass comes.\n",
      " for end for last executive did request any a capitalize since imports or new funds hole rate.\n",
      " offer failed to wildly and trade corporate musical.\n",
      " polaroid said be ross a year towers n't not direct they unless about than drunk as are workers there and cypress benefit recover plc their fine and disputed a graduate also.\n",
      " including anywhere fell to native however gifts waxman investors under on spinoff pennzoil pour chaos though rather barrels than buffett a month.\n",
      " support not mr. financial to encouragement you\n"
     ]
    }
   ],
   "source": [
    "# coding: utf-8\n",
    "import sys\n",
    "sys.path.append('..')\n",
    "from common.np import *\n",
    "from rnnlm_gen import BetterRnnlmGen\n",
    "from dataset import ptb\n",
    "\n",
    "\n",
    "corpus, word_to_id, id_to_word = ptb.load_data('train')\n",
    "vocab_size = len(word_to_id)\n",
    "corpus_size = len(corpus)\n",
    "\n",
    "\n",
    "model = BetterRnnlmGen()\n",
    "model.load_params('../ch06/BetterRnnlm/BetterRnnlm.pkl')\n",
    "\n",
    "# start 문자와 skip 문자 설정\n",
    "# start_word = 'you'\n",
    "# start_id = word_to_id[start_word]\n",
    "# skip_words = ['N', '<unk>', '$']\n",
    "# skip_ids = [word_to_id[w] for w in skip_words]\n",
    "# # 문장 생성\n",
    "# word_ids = model.generate(start_id, skip_ids)\n",
    "# txt = ' '.join([id_to_word[i] for i in word_ids])\n",
    "# txt = txt.replace(' <eos>', '.\\n')\n",
    "\n",
    "# print(txt)\n",
    "\n",
    "\n",
    "model.reset_state()\n",
    "\n",
    "# start_words = 'the meaning of life is' # 입력 문장. 어떤 걸 넣어도 상관없음~\n",
    "start_words = 'you'\n",
    "start_ids = [word_to_id[w] for w in start_words.split(' ')]\n",
    "print(start_ids)\n",
    "print(start_ids[:-1])\n",
    "\n",
    "for x in start_ids[:-1]:\n",
    "    x = np.array(x).reshape(1, 1)\n",
    "    model.predict(x)\n",
    "\n",
    "# word_ids = model.generate(start_ids[-1], skip_ids)\n",
    "# word_ids = start_ids[:-1] + word_ids\n",
    "# txt = ' '.join([id_to_word[i] for i in word_ids])\n",
    "# txt = txt.replace(' <eos>', '.\\n')\n",
    "# print('-' * 50)\n",
    "print(txt)\n"
   ]
  },
  {
   "cell_type": "code",
   "execution_count": null,
   "metadata": {},
   "outputs": [],
   "source": []
  }
 ],
 "metadata": {
  "kernelspec": {
   "display_name": "Python 3 (ipykernel)",
   "language": "python",
   "name": "python3"
  },
  "language_info": {
   "codemirror_mode": {
    "name": "ipython",
    "version": 3
   },
   "file_extension": ".py",
   "mimetype": "text/x-python",
   "name": "python",
   "nbconvert_exporter": "python",
   "pygments_lexer": "ipython3",
   "version": "3.9.7"
  },
  "toc": {
   "base_numbering": 1,
   "nav_menu": {},
   "number_sections": true,
   "sideBar": true,
   "skip_h1_title": false,
   "title_cell": "Table of Contents",
   "title_sidebar": "Contents",
   "toc_cell": false,
   "toc_position": {},
   "toc_section_display": true,
   "toc_window_display": true
  },
  "varInspector": {
   "cols": {
    "lenName": 16,
    "lenType": 16,
    "lenVar": 40
   },
   "kernels_config": {
    "python": {
     "delete_cmd_postfix": "",
     "delete_cmd_prefix": "del ",
     "library": "var_list.py",
     "varRefreshCmd": "print(var_dic_list())"
    },
    "r": {
     "delete_cmd_postfix": ") ",
     "delete_cmd_prefix": "rm(",
     "library": "var_list.r",
     "varRefreshCmd": "cat(var_dic_list()) "
    }
   },
   "types_to_exclude": [
    "module",
    "function",
    "builtin_function_or_method",
    "instance",
    "_Feature"
   ],
   "window_display": false
  }
 },
 "nbformat": 4,
 "nbformat_minor": 4
}
