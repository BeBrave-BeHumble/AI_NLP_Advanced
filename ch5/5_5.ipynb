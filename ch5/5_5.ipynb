{
 "cells": [
  {
   "cell_type": "markdown",
   "metadata": {},
   "source": [
    "### RNNLM 구현"
   ]
  },
  {
   "cell_type": "code",
   "execution_count": null,
   "metadata": {},
   "outputs": [],
   "source": [
    "import numpy as np\n",
    "xs = np.array([[1,2,3]])\n",
    "print(xs.shape)\n",
    "print(xs[:,0])\n",
    "print(xs[:,0].shape)\n",
    "W = np.arange(28).reshape(7,4)\n",
    "print(W[0])\n",
    "print(W[[0]])"
   ]
  },
  {
   "cell_type": "code",
   "execution_count": null,
   "metadata": {},
   "outputs": [],
   "source": [
    "a = np.array([1,2,3])\n",
    "a = a.reshape(-1,1)\n",
    "print(a)"
   ]
  },
  {
   "cell_type": "code",
   "execution_count": 5,
   "metadata": {
    "ExecuteTime": {
     "end_time": "2022-07-14T10:37:52.968614Z",
     "start_time": "2022-07-14T10:37:52.956621Z"
    }
   },
   "outputs": [
    {
     "name": "stdout",
     "output_type": "stream",
     "text": [
      "[1 1 1]\n",
      "(3,)\n",
      "[[1]\n",
      " [1]\n",
      " [1]]\n",
      "(3, 1)\n"
     ]
    }
   ],
   "source": [
    "a = np.array([1,1,1])\n",
    "print(a)\n",
    "print(a.shape)\n",
    "a = a[:, np.newaxis] # 축 추가하는 문법 (차원확장)\n",
    "print(a)\n",
    "print(a.shape)"
   ]
  },
  {
   "cell_type": "code",
   "execution_count": null,
   "metadata": {},
   "outputs": [],
   "source": [
    "a = np.array([1,2,3])\n",
    "a = a[:, np.newaxis]\n",
    "print(a)"
   ]
  },
  {
   "cell_type": "code",
   "execution_count": null,
   "metadata": {},
   "outputs": [],
   "source": [
    "a = np.array([1,2,3])\n",
    "a = a[np.newaxis, :]\n",
    "print(a)"
   ]
  },
  {
   "cell_type": "code",
   "execution_count": null,
   "metadata": {},
   "outputs": [],
   "source": [
    "a = np.array([[1,2],\n",
    "              [3,4]])\n",
    "# b = 3\n",
    "# b = np.array([2,2])\n",
    "b = np.array([[2],[2]])\n",
    "a+b   # (2,2) + (2,1) => (2,2) + (2,2)"
   ]
  },
  {
   "cell_type": "code",
   "execution_count": 10,
   "metadata": {
    "ExecuteTime": {
     "end_time": "2022-07-14T10:44:46.814992Z",
     "start_time": "2022-07-14T10:44:46.783089Z"
    }
   },
   "outputs": [
    {
     "name": "stdout",
     "output_type": "stream",
     "text": [
      "[1. 1. 1.]\n",
      "(3,)\n",
      "(3, 1)\n",
      "(3, 1)\n",
      "[1. 1. 0.]\n"
     ]
    },
    {
     "data": {
      "text/plain": [
       "array([[ 0.,  1.,  2.,  3.,  4.,  5.,  6.],\n",
       "       [ 7.,  8.,  9., 10., 11., 12., 13.],\n",
       "       [ 0.,  0.,  0.,  0.,  0.,  0.,  0.]])"
      ]
     },
     "execution_count": 10,
     "metadata": {},
     "output_type": "execute_result"
    }
   ],
   "source": [
    "import numpy as np\n",
    "dx = np.arange(21).reshape(3,7)\n",
    "mask = np.ones((3,))\n",
    "print(mask)\n",
    "print(mask.shape)\n",
    "print(mask.reshape(3,1).shape) # (3, 1)\n",
    "print(mask[:, np.newaxis].shape) # (3, 1)\n",
    "\n",
    "dx * mask[:, np.newaxis] # (3,7)*(3,1) => (3,7)*(3,7)\n",
    "\n",
    "''' newaxis사용 이유: 2차원과 1차원을 브로드케스트 하면 원래 1차원이 2차원으로 늘어나는데, 2\n",
    "아래처럼 한 원소(단어)를 0으로 바꾸면 (즉, 그 단어는 무시하겠단 뜻) 행렬곱 했을 때 차원이 늘어나면서\n",
    "해당 열이 전부 0으로 바뀜. 미분값에서도 0이 되기 때문에 단어를 사용하지 않게 됨.\n",
    "결국 그냥 그 단어를 무시할 수 있다는 뜻..~\n",
    "'''\n",
    "mask[2] = 0\n",
    "print(mask)\n",
    "dx * mask[:, np.newaxis]  "
   ]
  },
  {
   "cell_type": "code",
   "execution_count": null,
   "metadata": {},
   "outputs": [],
   "source": [
    "import sys\n",
    "sys.path.append('..')\n",
    "import numpy as np\n",
    "from common.time_layers import *\n",
    "\n",
    "D=4\n",
    "H=3\n",
    "rnn_Wx = np.arange(D*H).reshape(D,H)\n",
    "rnn_Wh = np.arange(H*H).reshape(H,H)\n",
    "rnn_b = np.arange(H)\n",
    "\n",
    "rnn = RNN(rnn_Wx, rnn_Wh, rnn_b)\n",
    "print(rnn.params[0])\n",
    "print(rnn.params[1])\n",
    "print(rnn.params[2])"
   ]
  },
  {
   "cell_type": "code",
   "execution_count": 11,
   "metadata": {
    "ExecuteTime": {
     "end_time": "2022-07-14T12:16:26.999620Z",
     "start_time": "2022-07-14T12:16:26.981630Z"
    }
   },
   "outputs": [
    {
     "name": "stdout",
     "output_type": "stream",
     "text": [
      "<class 'tuple'>\n",
      "<class 'tuple'>\n",
      "<class 'int'>\n",
      "1 2\n",
      "1 2\n",
      "[[ 0  1  2  3]\n",
      " [ 4  5  6  7]\n",
      " [ 8  9 10 11]]\n",
      "[[0.38787255 0.78808935 0.54614592 0.09295028]\n",
      " [0.52043007 0.93749184 0.85626426 0.95159664]\n",
      " [0.98619484 0.52451684 0.09013551 0.8725119 ]]\n"
     ]
    }
   ],
   "source": [
    "a = (1,2)\n",
    "print(type(a))\n",
    "b = 1,2 # 튜플 패킹. 묶지 않아도 변수 하나에 넣으면 튜플로 됨\n",
    "print(type(b))\n",
    "a,b = (1,2) # 튜플 언패킹\n",
    "print(type(a)) # int\n",
    "\n",
    "def foo():\n",
    "    return 1,2\n",
    "# 사실은 리턴을 두개 하는 게 아니고 1,2 자체를 튜플 패킹하기 때문에 하나가 되는 것임.\n",
    "\n",
    "a,b = foo()\n",
    "print(a,b) # 1 2\n",
    "\n",
    "def foo(a,b):\n",
    "    print(a,b)\n",
    "# foo((1,2)) 이렇게 애초에 튜플로 묶어서 들여보내면 a=(1,2)이 들어가고 b에는 아무것도 안 들어가기 때문에\n",
    "# 에러가 남. 이걸 방지하고자\n",
    "foo(*(1,2)) # *을 사용하여 a=1, b=2를 넣으라고 알려주는 것.!!!!!!!!!!! 즉, 명시적인 튜플 언패킹~ \n",
    "\n",
    "\n",
    "a = np.arange(3*4).reshape(3,4)\n",
    "b = np.random.rand(*a.shape) # *: 명시적인 튜플 언패킹 \n",
    "print(a)\n",
    "print(b)"
   ]
  },
  {
   "cell_type": "code",
   "execution_count": null,
   "metadata": {},
   "outputs": [],
   "source": [
    "class AAA:\n",
    "    def __init__(self):\n",
    "        self.x = 10\n",
    "        y = 20\n",
    "        print('__init__()', self)\n",
    "        \n",
    "    def foo(self):\n",
    "        print(self.x)\n",
    "#         print(y)\n",
    "        \n",
    "a = AAA()\n",
    "print(a)\n",
    "a.foo()"
   ]
  },
  {
   "cell_type": "code",
   "execution_count": 1,
   "metadata": {
    "ExecuteTime": {
     "end_time": "2022-07-14T12:30:57.084698Z",
     "start_time": "2022-07-14T12:30:57.064751Z"
    }
   },
   "outputs": [
    {
     "name": "stdout",
     "output_type": "stream",
     "text": [
      "[[0.19204427 0.06374374 0.10120973 0.44317755 0.11048209 0.0599139\n",
      "  0.02942871]\n",
      " [0.15888978 0.38605988 0.05684352 0.10051756 0.09832719 0.14230844\n",
      "  0.05705362]\n",
      " [0.06391982 0.12290762 0.38174714 0.12952631 0.08933944 0.11079889\n",
      "  0.10176078]]\n",
      "[1. 1. 1.]\n",
      "[0.06374374 0.05684352 0.12952631]\n",
      "[-2.75288426 -2.86745302 -2.04387124]\n",
      "7.664208512542288\n",
      "2.554736170847429\n"
     ]
    }
   ],
   "source": [
    "def softmax(x):\n",
    "    if x.ndim == 2:\n",
    "        x = x - x.max(axis=1, keepdims=True)\n",
    "        x = np.exp(x)\n",
    "        x /= x.sum(axis=1, keepdims=True)\n",
    "    elif x.ndim == 1:\n",
    "        x = x - np.max(x)\n",
    "        x = np.exp(x) / np.sum(np.exp(x))\n",
    "\n",
    "    return x\n",
    "\n",
    "xs = np.random.randn(3,7)\n",
    "ts = np.array([1,2,3])\n",
    "ys = softmax(xs)\n",
    "print(ys)\n",
    "print(np.sum(ys, axis=1))\n",
    "\n",
    "print(ys[np.arange(1 * 3), ts])\n",
    "ls = np.log(ys[np.arange(1 * 3), ts])\n",
    "print(ls)\n",
    "loss = -np.sum(ls)\n",
    "print(loss)\n",
    "loss /= 3\n",
    "print(loss)"
   ]
  },
  {
   "cell_type": "code",
   "execution_count": 2,
   "metadata": {
    "ExecuteTime": {
     "end_time": "2022-07-14T12:31:01.686788Z",
     "start_time": "2022-07-14T12:31:01.676817Z"
    }
   },
   "outputs": [
    {
     "name": "stdout",
     "output_type": "stream",
     "text": [
      "[1 1 1]\n",
      "(3,)\n",
      "(3, 1)\n",
      "(3, 1)\n",
      "[[1]\n",
      " [1]\n",
      " [1]]\n"
     ]
    }
   ],
   "source": [
    "mask = np.array([1,1,1])\n",
    "print(mask)\n",
    "print(mask.shape)\n",
    "print(mask.reshape(-1,1).shape) # 아래랑 같은 코드\n",
    "print(mask[:, np.newaxis].shape) # 위랑 같은 코드. 축을 추가하여 세로로 세우는 코드\n",
    "print(mask[:, np.newaxis])"
   ]
  },
  {
   "cell_type": "code",
   "execution_count": null,
   "metadata": {},
   "outputs": [],
   "source": [
    "dx = np.arange(21).reshape(3,7)\n",
    "print(dx)\n",
    "mask = np.array([0,1,0])\n",
    "dx *= mask[:, np.newaxis] # 마스크가 다 1이면 그 값들이 다 살아있는데, 단어가 중요하지 않아서 마스크에 0을 넣으면 해당 단어는 다 0이 되어 빠지게 되는 개념\n",
    "# 즉, 희소단어 계산하기 싫을 때 사용하면 됨.\n",
    "print(dx)"
   ]
  },
  {
   "cell_type": "code",
   "execution_count": 3,
   "metadata": {
    "ExecuteTime": {
     "end_time": "2022-07-14T12:32:09.697418Z",
     "start_time": "2022-07-14T12:32:09.690425Z"
    }
   },
   "outputs": [
    {
     "name": "stdout",
     "output_type": "stream",
     "text": [
      "2\n",
      "1\n",
      "0\n"
     ]
    }
   ],
   "source": [
    "for i in reversed(range(3)): \n",
    "    print(i)"
   ]
  },
  {
   "cell_type": "code",
   "execution_count": 1,
   "metadata": {},
   "outputs": [],
   "source": [
    "import sys\n",
    "sys.path.append('..')\n",
    "import numpy as np\n",
    "from common.time_layers import *\n",
    "\n",
    "\n",
    "class SimpleRnnlm:\n",
    "    def __init__(self, vocab_size, wordvec_size, hidden_size):\n",
    "        V, D, H = vocab_size, wordvec_size, hidden_size\n",
    "        rn = np.random.randn\n",
    "\n",
    "        # 가중치 초기화\n",
    "        embed_W = (rn(V, D) / 100).astype('f')\n",
    "        rnn_Wx = (rn(D, H) / np.sqrt(D)).astype('f') \n",
    "        rnn_Wh = (rn(H, H) / np.sqrt(H)).astype('f') # 루트(히든층의 뉴런 수)로 나눔 : 사비에르 초기화.\n",
    "        # 시그모이드나 하이퍼블릭 탄젠트는 자기 뉴런의 은닉층의 루트로 나눔. \n",
    "        rnn_b = np.zeros(H).astype('f')\n",
    "        affine_W = (rn(H, V) / np.sqrt(H)).astype('f')\n",
    "        affine_b = np.zeros(V).astype('f')\n",
    "\n",
    "        # 계층 생성\n",
    "        self.layers = [\n",
    "            TimeEmbedding(embed_W),\n",
    "            TimeRNN(rnn_Wx, rnn_Wh, rnn_b, stateful=True),\n",
    "            TimeAffine(affine_W, affine_b)\n",
    "        ]\n",
    "        self.loss_layer = TimeSoftmaxWithLoss()\n",
    "        self.rnn_layer = self.layers[1]\n",
    "\n",
    "        # 모든 가중치와 기울기를 리스트에 모은다.\n",
    "        self.params, self.grads = [], []\n",
    "        for layer in self.layers:\n",
    "            self.params += layer.params\n",
    "            self.grads += layer.grads\n",
    "\n",
    "    def forward(self, xs, ts):\n",
    "        for layer in self.layers:\n",
    "            xs = layer.forward(xs)\n",
    "        loss = self.loss_layer.forward(xs, ts)\n",
    "        return loss\n",
    "\n",
    "    def backward(self, dout=1): # dout=1: 자기자신의 미분은 1이므로 1부터 시작\n",
    "        dout = self.loss_layer.backward(dout)\n",
    "        for layer in reversed(self.layers):\n",
    "            dout = layer.backward(dout)\n",
    "        return dout\n",
    "\n",
    "    def reset_state(self):\n",
    "        self.rnn_layer.reset_state()"
   ]
  },
  {
   "cell_type": "markdown",
   "metadata": {},
   "source": [
    "### RNNLM의 학습 코드"
   ]
  },
  {
   "cell_type": "code",
   "execution_count": 5,
   "metadata": {
    "ExecuteTime": {
     "end_time": "2022-07-14T12:33:50.048328Z",
     "start_time": "2022-07-14T12:33:48.417689Z"
    }
   },
   "outputs": [
    {
     "name": "stdout",
     "output_type": "stream",
     "text": [
      "(929589,)\n",
      "[ 0  1  2  3  4  5  6  7  8  9 10 11 12 13 14 15 16 17 18 19 20 21 22 23\n",
      " 24 25 26 27 28 29 30 31 32 33 34 35 36 37 38 27 24 39 26 40 41 42 26 43\n",
      " 32 44 45 46 24 47 26 27 28 29 48 49 41 42 50 51 52 53 54 55 35 36 37 42\n",
      " 56 57 58 59 24 35 60 42 61 62 63 64 65 66 67 68 69 70 35 71 72 42 73 74\n",
      " 75 35 46 42]\n",
      "<class 'dict'>\n",
      "10000\n",
      "<unk>\n",
      "aer banknote berlitz calloway centrust cluett fromstein gitano guterman hydro-quebec ipo kia memotec mlx nahb punts rake regatta rubens sim snack-food ssangyong swapo wachter <eos> pierre <unk> N years old will join the board as a nonexecutive director nov. N <eos> mr. <unk> is chairman of <unk> n.v. the dutch publishing group <eos> rudolph <unk> N years old and former chairman of consolidated gold fields plc was named a nonexecutive director of this british industrial conglomerate <eos> a form of asbestos once used to make kent cigarette filters has caused a high percentage of cancer deaths among a group of \n",
      "4\n",
      "말뭉치 크기: 929589, 어휘 수: 10000\n",
      "10000\n"
     ]
    }
   ],
   "source": [
    "import sys\n",
    "sys.path.append('..')\n",
    "import matplotlib.pyplot as plt\n",
    "import numpy as np\n",
    "from common.optimizer import SGD\n",
    "from dataset import ptb\n",
    "from simple_rnnlm import SimpleRnnlm\n",
    "\n",
    "corpus, word_to_id, id_to_word = ptb.load_data('train')\n",
    "print(corpus.shape)\n",
    "print(corpus[:100])\n",
    "print(type(word_to_id))\n",
    "print(len(word_to_id))\n",
    "print(id_to_word[26])\n",
    "\n",
    "for i in range(100): # 100개 디코드\n",
    "    print(id_to_word[corpus[i]], end=' ')\n",
    "print() # 숫자는 숫자 그대로 넣으면 딥러닝은 따로따로 학습시키기 때문에 숫자를 N으로 했음\n",
    "# <unk>: 희소단어, <eos> : 문장 끝 의미. \n",
    "\n",
    "print(word_to_id['centrust'])\n",
    "\n",
    "vocab_size = int(max(corpus) + 1)\n",
    "print('말뭉치 크기: %d, 어휘 수: %d' % (len(corpus), vocab_size))\n",
    "print(len(word_to_id))"
   ]
  },
  {
   "cell_type": "code",
   "execution_count": 6,
   "metadata": {
    "ExecuteTime": {
     "end_time": "2022-07-14T12:35:33.365613Z",
     "start_time": "2022-07-14T12:35:25.114474Z"
    }
   },
   "outputs": [
    {
     "name": "stdout",
     "output_type": "stream",
     "text": [
      "| 에폭 1 | 퍼플렉서티 394.39\n",
      "| 에폭 2 | 퍼플렉서티 268.10\n",
      "| 에폭 3 | 퍼플렉서티 223.94\n",
      "| 에폭 4 | 퍼플렉서티 214.95\n",
      "| 에폭 5 | 퍼플렉서티 205.75\n",
      "| 에폭 6 | 퍼플렉서티 202.72\n",
      "| 에폭 7 | 퍼플렉서티 197.98\n",
      "| 에폭 8 | 퍼플렉서티 195.70\n",
      "| 에폭 9 | 퍼플렉서티 191.04\n",
      "| 에폭 10 | 퍼플렉서티 192.80\n",
      "| 에폭 11 | 퍼플렉서티 188.54\n",
      "| 에폭 12 | 퍼플렉서티 191.70\n",
      "| 에폭 13 | 퍼플렉서티 189.26\n",
      "| 에폭 14 | 퍼플렉서티 190.11\n",
      "| 에폭 15 | 퍼플렉서티 189.44\n",
      "| 에폭 16 | 퍼플렉서티 185.35\n",
      "| 에폭 17 | 퍼플렉서티 183.70\n",
      "| 에폭 18 | 퍼플렉서티 180.10\n",
      "| 에폭 19 | 퍼플렉서티 181.45\n",
      "| 에폭 20 | 퍼플렉서티 181.99\n",
      "| 에폭 21 | 퍼플렉서티 179.81\n",
      "| 에폭 22 | 퍼플렉서티 175.23\n",
      "| 에폭 23 | 퍼플렉서티 173.20\n",
      "| 에폭 24 | 퍼플렉서티 174.29\n",
      "| 에폭 25 | 퍼플렉서티 171.78\n",
      "| 에폭 26 | 퍼플렉서티 172.58\n",
      "| 에폭 27 | 퍼플렉서티 166.38\n",
      "| 에폭 28 | 퍼플렉서티 164.72\n",
      "| 에폭 29 | 퍼플렉서티 160.75\n",
      "| 에폭 30 | 퍼플렉서티 153.74\n",
      "| 에폭 31 | 퍼플렉서티 154.12\n",
      "| 에폭 32 | 퍼플렉서티 150.73\n",
      "| 에폭 33 | 퍼플렉서티 149.15\n",
      "| 에폭 34 | 퍼플렉서티 143.21\n",
      "| 에폭 35 | 퍼플렉서티 143.59\n",
      "| 에폭 36 | 퍼플렉서티 135.68\n",
      "| 에폭 37 | 퍼플렉서티 131.95\n",
      "| 에폭 38 | 퍼플렉서티 128.10\n",
      "| 에폭 39 | 퍼플렉서티 120.97\n",
      "| 에폭 40 | 퍼플렉서티 118.73\n",
      "| 에폭 41 | 퍼플렉서티 116.58\n",
      "| 에폭 42 | 퍼플렉서티 111.91\n",
      "| 에폭 43 | 퍼플렉서티 104.71\n",
      "| 에폭 44 | 퍼플렉서티 99.85\n",
      "| 에폭 45 | 퍼플렉서티 95.88\n",
      "| 에폭 46 | 퍼플렉서티 94.06\n",
      "| 에폭 47 | 퍼플렉서티 87.27\n",
      "| 에폭 48 | 퍼플렉서티 83.29\n",
      "| 에폭 49 | 퍼플렉서티 80.21\n",
      "| 에폭 50 | 퍼플렉서티 77.97\n",
      "| 에폭 51 | 퍼플렉서티 73.41\n",
      "| 에폭 52 | 퍼플렉서티 69.26\n",
      "| 에폭 53 | 퍼플렉서티 65.16\n",
      "| 에폭 54 | 퍼플렉서티 62.55\n",
      "| 에폭 55 | 퍼플렉서티 59.88\n",
      "| 에폭 56 | 퍼플렉서티 55.87\n",
      "| 에폭 57 | 퍼플렉서티 52.66\n",
      "| 에폭 58 | 퍼플렉서티 50.11\n",
      "| 에폭 59 | 퍼플렉서티 48.02\n",
      "| 에폭 60 | 퍼플렉서티 45.83\n",
      "| 에폭 61 | 퍼플렉서티 44.91\n",
      "| 에폭 62 | 퍼플렉서티 41.10\n",
      "| 에폭 63 | 퍼플렉서티 38.21\n",
      "| 에폭 64 | 퍼플렉서티 37.03\n",
      "| 에폭 65 | 퍼플렉서티 34.63\n",
      "| 에폭 66 | 퍼플렉서티 32.58\n",
      "| 에폭 67 | 퍼플렉서티 31.87\n",
      "| 에폭 68 | 퍼플렉서티 29.10\n",
      "| 에폭 69 | 퍼플렉서티 27.73\n",
      "| 에폭 70 | 퍼플렉서티 26.71\n",
      "| 에폭 71 | 퍼플렉서티 25.16\n",
      "| 에폭 72 | 퍼플렉서티 23.74\n",
      "| 에폭 73 | 퍼플렉서티 22.24\n",
      "| 에폭 74 | 퍼플렉서티 21.48\n",
      "| 에폭 75 | 퍼플렉서티 20.18\n",
      "| 에폭 76 | 퍼플렉서티 18.93\n",
      "| 에폭 77 | 퍼플렉서티 18.11\n",
      "| 에폭 78 | 퍼플렉서티 16.33\n",
      "| 에폭 79 | 퍼플렉서티 16.27\n",
      "| 에폭 80 | 퍼플렉서티 15.41\n",
      "| 에폭 81 | 퍼플렉서티 14.82\n",
      "| 에폭 82 | 퍼플렉서티 14.97\n",
      "| 에폭 83 | 퍼플렉서티 13.14\n",
      "| 에폭 84 | 퍼플렉서티 12.91\n",
      "| 에폭 85 | 퍼플렉서티 12.14\n",
      "| 에폭 86 | 퍼플렉서티 11.08\n",
      "| 에폭 87 | 퍼플렉서티 10.76\n",
      "| 에폭 88 | 퍼플렉서티 10.28\n",
      "| 에폭 89 | 퍼플렉서티 10.15\n",
      "| 에폭 90 | 퍼플렉서티 9.35\n",
      "| 에폭 91 | 퍼플렉서티 9.04\n",
      "| 에폭 92 | 퍼플렉서티 8.50\n",
      "| 에폭 93 | 퍼플렉서티 8.35\n",
      "| 에폭 94 | 퍼플렉서티 7.93\n",
      "| 에폭 95 | 퍼플렉서티 7.34\n",
      "| 에폭 96 | 퍼플렉서티 6.66\n",
      "| 에폭 97 | 퍼플렉서티 6.43\n",
      "| 에폭 98 | 퍼플렉서티 6.33\n",
      "| 에폭 99 | 퍼플렉서티 6.22\n",
      "| 에폭 100 | 퍼플렉서티 5.75\n"
     ]
    },
    {
     "data": {
      "image/png": "[encoded data removed]",
      "text/plain": [
       "<Figure size 432x288 with 1 Axes>"
      ]
     },
     "metadata": {
      "needs_background": "light"
     },
     "output_type": "display_data"
    }
   ],
   "source": [
    "import sys\n",
    "sys.path.append('..')\n",
    "import matplotlib.pyplot as plt\n",
    "import numpy as np\n",
    "from common.optimizer import SGD\n",
    "from dataset import ptb\n",
    "from simple_rnnlm import SimpleRnnlm\n",
    "\n",
    "\n",
    "# 1. (N,T) 로 입력\n",
    "# 2. (N,T) => (N,T,D)  임베딩층 통과 시\n",
    "# 3. (N,H)(H,H)+(N,D)(D,H)+(H,) => (N,H) => (N,T,H)  RNN 층 통과 시\n",
    "\n",
    "# 하이퍼파라미터 설정\n",
    "batch_size = 10\n",
    "wordvec_size = 100\n",
    "hidden_size = 100 # RNN의 은닉 상태 벡터의 원소 수\n",
    "time_size = 5     # Truncated BPTT가 한 번에 펼치는 시간 크기\n",
    "lr = 0.1\n",
    "max_epoch = 100\n",
    "\n",
    "# 학습 데이터 읽기(전체 중 1000개만)\n",
    "corpus, word_to_id, id_to_word = ptb.load_data('train')\n",
    "# print('말뭉치 크기: %d, 어휘 수: %d' % (corpus_size, vocab_size))\n",
    "corpus_size = 1000\n",
    "corpus = corpus[:corpus_size]\n",
    "vocab_size = int(max(corpus) + 1)\n",
    "# print(vocab_size)\n",
    "\n",
    "xs = corpus[:-1]  # 입력\n",
    "ts = corpus[1:]   # 출력(정답 레이블)\n",
    "data_size = len(xs)\n",
    "# print('말뭉치 크기: %d, 어휘 수: %d' % (corpus_size, vocab_size))\n",
    "\n",
    "# 학습 시 사용하는 변수\n",
    "max_iters = data_size // (batch_size * time_size)\n",
    "time_idx = 0\n",
    "total_loss = 0\n",
    "loss_count = 0\n",
    "ppl_list = []\n",
    "\n",
    "# 모델 생성\n",
    "model = SimpleRnnlm(vocab_size, wordvec_size, hidden_size)\n",
    "optimizer = SGD(lr)\n",
    "\n",
    "# 미니배치의 각 샘플의 읽기 시작 위치를 계산\n",
    "jump = (corpus_size - 1) // batch_size\n",
    "offsets = [i * jump for i in range(batch_size)]\n",
    "\n",
    "for epoch in range(max_epoch):\n",
    "    for iter in range(max_iters):\n",
    "        # 미니배치 취득\n",
    "        batch_x = np.empty((batch_size, time_size), dtype='i')\n",
    "        batch_t = np.empty((batch_size, time_size), dtype='i')\n",
    "        for t in range(time_size):\n",
    "            for i, offset in enumerate(offsets):\n",
    "                batch_x[i, t] = xs[(offset + time_idx) % data_size]\n",
    "                batch_t[i, t] = ts[(offset + time_idx) % data_size]\n",
    "            time_idx += 1\n",
    "\n",
    "        # 기울기를 구하여 매개변수 갱신\n",
    "        loss = model.forward(batch_x, batch_t)\n",
    "        model.backward() # 포워드가 끝나면 즉각 백워드가 시작됨!\n",
    "        optimizer.update(model.params, model.grads)\n",
    "        total_loss += loss\n",
    "        loss_count += 1\n",
    "\n",
    "    # 에폭마다 퍼플렉서티 평가 => 로스를 증폭해서 보는 기술! \n",
    "    # 결과를 보면 loss가 줄어들고 있는 것을 알 수 있는데 퍼플렉서티가 1에 가깝도록 학습되어야 함\n",
    "    # 지금은 코퍼스가 1000개라 그렇게까진 안 됨 -> 10000개로 늘려볼 것~\n",
    "    ppl = np.exp(total_loss / loss_count)\n",
    "    print('| 에폭 %d | 퍼플렉서티 %.2f'\n",
    "          % (epoch+1, ppl))\n",
    "    ppl_list.append(float(ppl))\n",
    "    total_loss, loss_count = 0, 0\n",
    "\n",
    "# 그래프 그리기\n",
    "x = np.arange(len(ppl_list))\n",
    "plt.plot(x, ppl_list, label='train')\n",
    "plt.xlabel('epochs')\n",
    "plt.ylabel('perplexity')\n",
    "plt.show()\n"
   ]
  },
  {
   "cell_type": "code",
   "execution_count": 7,
   "metadata": {
    "ExecuteTime": {
     "end_time": "2022-07-14T12:38:22.812770Z",
     "start_time": "2022-07-14T12:38:22.789862Z"
    }
   },
   "outputs": [
    {
     "data": {
      "text/plain": [
       "array([ 0.02372971, -0.01304095,  0.02449961, -0.00206318, -0.01231516,\n",
       "       -0.02456621, -0.0409753 ,  0.01218019, -0.02828816, -0.00175064,\n",
       "       -0.02990505,  0.0142011 , -0.03970867, -0.0367524 , -0.02216768,\n",
       "       -0.00409162, -0.01532013,  0.01504941, -0.02428817,  0.04278439,\n",
       "       -0.02537756, -0.00063911,  0.03523976,  0.01742248, -0.03774654,\n",
       "       -0.00099697, -0.00906595, -0.02439729, -0.01915917,  0.04038125,\n",
       "        0.03891945, -0.01074882, -0.02609988,  0.03794376, -0.01179354,\n",
       "       -0.01906868,  0.0280846 ,  0.05463143,  0.0539816 ,  0.01158238,\n",
       "       -0.02373425,  0.00570924, -0.0111488 , -0.00818964, -0.02604602,\n",
       "       -0.02251796, -0.04193489,  0.00073208,  0.01330736,  0.0288386 ,\n",
       "       -0.02325837,  0.02729252, -0.02796168, -0.0762394 ,  0.00983488,\n",
       "       -0.00893506,  0.03504473, -0.02444181, -0.03869294,  0.01463275,\n",
       "       -0.01571368, -0.03472419,  0.02093372,  0.01275448,  0.02385257,\n",
       "        0.00192369,  0.00989669, -0.01356172, -0.01105005, -0.00988329,\n",
       "        0.0072545 ,  0.03116285, -0.01714129, -0.02727324,  0.02219015,\n",
       "       -0.00728119,  0.00880651, -0.01809971,  0.04377007,  0.03983438,\n",
       "       -0.04226524, -0.03383251, -0.02465146,  0.02565959,  0.0313368 ,\n",
       "        0.00211454, -0.01180188,  0.04058171,  0.03020273, -0.01641633,\n",
       "        0.04013922, -0.00575391,  0.01795868, -0.01682161,  0.00212244,\n",
       "       -0.03106787, -0.00564237, -0.01577924, -0.00125083,  0.04470282],\n",
       "      dtype=float32)"
      ]
     },
     "execution_count": 7,
     "metadata": {},
     "output_type": "execute_result"
    }
   ],
   "source": [
    "model.layers[0].W[1]"
   ]
  },
  {
   "cell_type": "markdown",
   "metadata": {},
   "source": [
    "### RNNLM의 Trainer 클래스"
   ]
  },
  {
   "cell_type": "code",
   "execution_count": 8,
   "metadata": {
    "ExecuteTime": {
     "end_time": "2022-07-14T12:38:48.013953Z",
     "start_time": "2022-07-14T12:38:39.860441Z"
    }
   },
   "outputs": [
    {
     "name": "stdout",
     "output_type": "stream",
     "text": [
      "| 에폭 1 |  반복 1 / 19 | 시간 0[s] | 퍼플렉서티 420.05\n",
      "| 에폭 2 |  반복 1 / 19 | 시간 0[s] | 퍼플렉서티 358.61\n",
      "| 에폭 3 |  반복 1 / 19 | 시간 0[s] | 퍼플렉서티 255.46\n",
      "| 에폭 4 |  반복 1 / 19 | 시간 0[s] | 퍼플렉서티 221.51\n",
      "| 에폭 5 |  반복 1 / 19 | 시간 0[s] | 퍼플렉서티 209.72\n",
      "| 에폭 6 |  반복 1 / 19 | 시간 0[s] | 퍼플렉서티 207.40\n",
      "| 에폭 7 |  반복 1 / 19 | 시간 0[s] | 퍼플렉서티 199.59\n",
      "| 에폭 8 |  반복 1 / 19 | 시간 0[s] | 퍼플렉서티 199.84\n",
      "| 에폭 9 |  반복 1 / 19 | 시간 0[s] | 퍼플렉서티 195.02\n",
      "| 에폭 10 |  반복 1 / 19 | 시간 0[s] | 퍼플렉서티 190.62\n",
      "| 에폭 11 |  반복 1 / 19 | 시간 0[s] | 퍼플렉서티 193.19\n",
      "| 에폭 12 |  반복 1 / 19 | 시간 0[s] | 퍼플렉서티 189.67\n",
      "| 에폭 13 |  반복 1 / 19 | 시간 0[s] | 퍼플렉서티 192.60\n",
      "| 에폭 14 |  반복 1 / 19 | 시간 0[s] | 퍼플렉서티 187.56\n",
      "| 에폭 15 |  반복 1 / 19 | 시간 1[s] | 퍼플렉서티 186.67\n",
      "| 에폭 16 |  반복 1 / 19 | 시간 1[s] | 퍼플렉서티 190.93\n",
      "| 에폭 17 |  반복 1 / 19 | 시간 1[s] | 퍼플렉서티 189.05\n",
      "| 에폭 18 |  반복 1 / 19 | 시간 1[s] | 퍼플렉서티 184.29\n",
      "| 에폭 19 |  반복 1 / 19 | 시간 1[s] | 퍼플렉서티 180.97\n",
      "| 에폭 20 |  반복 1 / 19 | 시간 1[s] | 퍼플렉서티 180.99\n",
      "| 에폭 21 |  반복 1 / 19 | 시간 1[s] | 퍼플렉서티 179.29\n",
      "| 에폭 22 |  반복 1 / 19 | 시간 1[s] | 퍼플렉서티 178.57\n",
      "| 에폭 23 |  반복 1 / 19 | 시간 1[s] | 퍼플렉서티 181.89\n",
      "| 에폭 24 |  반복 1 / 19 | 시간 1[s] | 퍼플렉서티 178.27\n",
      "| 에폭 25 |  반복 1 / 19 | 시간 1[s] | 퍼플렉서티 172.77\n",
      "| 에폭 26 |  반복 1 / 19 | 시간 1[s] | 퍼플렉서티 174.69\n",
      "| 에폭 27 |  반복 1 / 19 | 시간 1[s] | 퍼플렉서티 172.42\n",
      "| 에폭 28 |  반복 1 / 19 | 시간 2[s] | 퍼플렉서티 172.24\n",
      "| 에폭 29 |  반복 1 / 19 | 시간 2[s] | 퍼플렉서티 166.83\n",
      "| 에폭 30 |  반복 1 / 19 | 시간 2[s] | 퍼플렉서티 166.16\n",
      "| 에폭 31 |  반복 1 / 19 | 시간 2[s] | 퍼플렉서티 161.60\n",
      "| 에폭 32 |  반복 1 / 19 | 시간 2[s] | 퍼플렉서티 156.22\n",
      "| 에폭 33 |  반복 1 / 19 | 시간 2[s] | 퍼플렉서티 157.81\n",
      "| 에폭 34 |  반복 1 / 19 | 시간 2[s] | 퍼플렉서티 159.98\n",
      "| 에폭 35 |  반복 1 / 19 | 시간 2[s] | 퍼플렉서티 150.07\n",
      "| 에폭 36 |  반복 1 / 19 | 시간 2[s] | 퍼플렉서티 148.58\n",
      "| 에폭 37 |  반복 1 / 19 | 시간 2[s] | 퍼플렉서티 149.05\n",
      "| 에폭 38 |  반복 1 / 19 | 시간 2[s] | 퍼플렉서티 142.17\n",
      "| 에폭 39 |  반복 1 / 19 | 시간 2[s] | 퍼플렉서티 137.94\n",
      "| 에폭 40 |  반복 1 / 19 | 시간 2[s] | 퍼플렉서티 131.97\n",
      "| 에폭 41 |  반복 1 / 19 | 시간 3[s] | 퍼플렉서티 126.19\n",
      "| 에폭 42 |  반복 1 / 19 | 시간 3[s] | 퍼플렉서티 126.89\n",
      "| 에폭 43 |  반복 1 / 19 | 시간 3[s] | 퍼플렉서티 123.53\n",
      "| 에폭 44 |  반복 1 / 19 | 시간 3[s] | 퍼플렉서티 118.20\n",
      "| 에폭 45 |  반복 1 / 19 | 시간 3[s] | 퍼플렉서티 111.08\n",
      "| 에폭 46 |  반복 1 / 19 | 시간 3[s] | 퍼플렉서티 108.13\n",
      "| 에폭 47 |  반복 1 / 19 | 시간 3[s] | 퍼플렉서티 105.69\n",
      "| 에폭 48 |  반복 1 / 19 | 시간 3[s] | 퍼플렉서티 103.65\n",
      "| 에폭 49 |  반복 1 / 19 | 시간 3[s] | 퍼플렉서티 99.11\n",
      "| 에폭 50 |  반복 1 / 19 | 시간 3[s] | 퍼플렉서티 91.17\n",
      "| 에폭 51 |  반복 1 / 19 | 시간 3[s] | 퍼플렉서티 91.53\n",
      "| 에폭 52 |  반복 1 / 19 | 시간 3[s] | 퍼플렉서티 83.16\n",
      "| 에폭 53 |  반복 1 / 19 | 시간 3[s] | 퍼플렉서티 82.47\n",
      "| 에폭 54 |  반복 1 / 19 | 시간 4[s] | 퍼플렉서티 76.80\n",
      "| 에폭 55 |  반복 1 / 19 | 시간 4[s] | 퍼플렉서티 75.12\n",
      "| 에폭 56 |  반복 1 / 19 | 시간 4[s] | 퍼플렉서티 70.93\n",
      "| 에폭 57 |  반복 1 / 19 | 시간 4[s] | 퍼플렉서티 69.21\n",
      "| 에폭 58 |  반복 1 / 19 | 시간 4[s] | 퍼플렉서티 63.89\n",
      "| 에폭 59 |  반복 1 / 19 | 시간 4[s] | 퍼플렉서티 59.92\n",
      "| 에폭 60 |  반복 1 / 19 | 시간 4[s] | 퍼플렉서티 58.15\n",
      "| 에폭 61 |  반복 1 / 19 | 시간 4[s] | 퍼플렉서티 54.71\n",
      "| 에폭 62 |  반복 1 / 19 | 시간 4[s] | 퍼플렉서티 51.68\n",
      "| 에폭 63 |  반복 1 / 19 | 시간 4[s] | 퍼플렉서티 50.35\n",
      "| 에폭 64 |  반복 1 / 19 | 시간 4[s] | 퍼플렉서티 47.20\n",
      "| 에폭 65 |  반복 1 / 19 | 시간 4[s] | 퍼플렉서티 42.91\n",
      "| 에폭 66 |  반복 1 / 19 | 시간 5[s] | 퍼플렉서티 41.79\n",
      "| 에폭 67 |  반복 1 / 19 | 시간 5[s] | 퍼플렉서티 39.12\n",
      "| 에폭 68 |  반복 1 / 19 | 시간 5[s] | 퍼플렉서티 36.88\n",
      "| 에폭 69 |  반복 1 / 19 | 시간 5[s] | 퍼플렉서티 35.62\n",
      "| 에폭 70 |  반복 1 / 19 | 시간 5[s] | 퍼플렉서티 34.03\n",
      "| 에폭 71 |  반복 1 / 19 | 시간 5[s] | 퍼플렉서티 31.34\n",
      "| 에폭 72 |  반복 1 / 19 | 시간 5[s] | 퍼플렉서티 29.85\n",
      "| 에폭 73 |  반복 1 / 19 | 시간 5[s] | 퍼플렉서티 28.39\n",
      "| 에폭 74 |  반복 1 / 19 | 시간 5[s] | 퍼플렉서티 26.60\n",
      "| 에폭 75 |  반복 1 / 19 | 시간 5[s] | 퍼플렉서티 25.20\n",
      "| 에폭 76 |  반복 1 / 19 | 시간 5[s] | 퍼플렉서티 23.67\n",
      "| 에폭 77 |  반복 1 / 19 | 시간 5[s] | 퍼플렉서티 22.88\n",
      "| 에폭 78 |  반복 1 / 19 | 시간 6[s] | 퍼플렉서티 21.14\n",
      "| 에폭 79 |  반복 1 / 19 | 시간 6[s] | 퍼플렉서티 20.24\n",
      "| 에폭 80 |  반복 1 / 19 | 시간 6[s] | 퍼플렉서티 18.32\n",
      "| 에폭 81 |  반복 1 / 19 | 시간 6[s] | 퍼플렉서티 17.67\n",
      "| 에폭 82 |  반복 1 / 19 | 시간 6[s] | 퍼플렉서티 16.69\n",
      "| 에폭 83 |  반복 1 / 19 | 시간 6[s] | 퍼플렉서티 16.07\n",
      "| 에폭 84 |  반복 1 / 19 | 시간 6[s] | 퍼플렉서티 15.14\n",
      "| 에폭 85 |  반복 1 / 19 | 시간 6[s] | 퍼플렉서티 14.08\n",
      "| 에폭 86 |  반복 1 / 19 | 시간 6[s] | 퍼플렉서티 13.35\n",
      "| 에폭 87 |  반복 1 / 19 | 시간 6[s] | 퍼플렉서티 13.21\n",
      "| 에폭 88 |  반복 1 / 19 | 시간 6[s] | 퍼플렉서티 11.67\n",
      "| 에폭 89 |  반복 1 / 19 | 시간 6[s] | 퍼플렉서티 11.40\n",
      "| 에폭 90 |  반복 1 / 19 | 시간 7[s] | 퍼플렉서티 11.01\n",
      "| 에폭 91 |  반복 1 / 19 | 시간 7[s] | 퍼플렉서티 10.71\n",
      "| 에폭 92 |  반복 1 / 19 | 시간 7[s] | 퍼플렉서티 9.77\n",
      "| 에폭 93 |  반복 1 / 19 | 시간 7[s] | 퍼플렉서티 9.26\n",
      "| 에폭 94 |  반복 1 / 19 | 시간 7[s] | 퍼플렉서티 8.89\n",
      "| 에폭 95 |  반복 1 / 19 | 시간 7[s] | 퍼플렉서티 8.78\n",
      "| 에폭 96 |  반복 1 / 19 | 시간 7[s] | 퍼플렉서티 8.48\n",
      "| 에폭 97 |  반복 1 / 19 | 시간 7[s] | 퍼플렉서티 7.91\n",
      "| 에폭 98 |  반복 1 / 19 | 시간 7[s] | 퍼플렉서티 7.39\n",
      "| 에폭 99 |  반복 1 / 19 | 시간 7[s] | 퍼플렉서티 6.80\n",
      "| 에폭 100 |  반복 1 / 19 | 시간 7[s] | 퍼플렉서티 6.53\n"
     ]
    },
    {
     "data": {
      "image/png": "[encoded data removed]",
      "text/plain": [
       "<Figure size 432x288 with 1 Axes>"
      ]
     },
     "metadata": {
      "needs_background": "light"
     },
     "output_type": "display_data"
    }
   ],
   "source": [
    "import sys\n",
    "sys.path.append('..')\n",
    "from common.optimizer import SGD\n",
    "from common.trainer import RnnlmTrainer\n",
    "from dataset import ptb\n",
    "from simple_rnnlm import SimpleRnnlm\n",
    "import matplotlib.pyplot as plt\n",
    "plt.rc('font', family='Malgun Gothic')\n",
    "\n",
    "# 하이퍼파라미터 설정\n",
    "batch_size = 10\n",
    "wordvec_size = 100\n",
    "hidden_size = 100  # RNN의 은닉 상태 벡터의 원소 수\n",
    "time_size = 5  # RNN을 펼치는 크기\n",
    "lr = 0.1\n",
    "max_epoch = 100\n",
    "\n",
    "# 학습 데이터 읽기\n",
    "corpus, word_to_id, id_to_word = ptb.load_data('train')\n",
    "corpus_size = 1000  # 테스트 데이터셋을 작게 설정\n",
    "corpus = corpus[:corpus_size]\n",
    "vocab_size = int(max(corpus) + 1)\n",
    "xs = corpus[:-1]  # 입력\n",
    "ts = corpus[1:]  # 출력（정답 레이블）\n",
    "\n",
    "# 모델 생성\n",
    "model = SimpleRnnlm(vocab_size, wordvec_size, hidden_size)\n",
    "optimizer = SGD(lr)\n",
    "trainer = RnnlmTrainer(model, optimizer)\n",
    "\n",
    "trainer.fit(xs, ts, max_epoch, batch_size, time_size)\n",
    "trainer.plot()\n"
   ]
  },
  {
   "cell_type": "code",
   "execution_count": 12,
   "metadata": {
    "ExecuteTime": {
     "end_time": "2022-07-14T12:41:32.449159Z",
     "start_time": "2022-07-14T12:41:32.426219Z"
    }
   },
   "outputs": [
    {
     "name": "stdout",
     "output_type": "stream",
     "text": [
      "[[ 0  1  2  3]\n",
      " [ 4  5  6  7]\n",
      " [ 8  9 10 11]\n",
      " [12 13 14 15]\n",
      " [16 17 18 19]\n",
      " [20 21 22 23]\n",
      " [24 25 26 27]]\n",
      "[[[ 0.  1.  2.  3.]\n",
      "  [ 0.  0.  0.  0.]\n",
      "  [ 0.  0.  0.  0.]]\n",
      "\n",
      " [[12. 13. 14. 15.]\n",
      "  [ 0.  0.  0.  0.]\n",
      "  [ 0.  0.  0.  0.]]]\n",
      "[[[ 0.  1.  2.  3.]\n",
      "  [ 4.  5.  6.  7.]\n",
      "  [ 0.  0.  0.  0.]]\n",
      "\n",
      " [[12. 13. 14. 15.]\n",
      "  [16. 17. 18. 19.]\n",
      "  [ 0.  0.  0.  0.]]]\n"
     ]
    },
    {
     "data": {
      "text/plain": [
       "array([[[ 0.,  1.,  2.,  3.],\n",
       "        [ 4.,  5.,  6.,  7.],\n",
       "        [ 8.,  9., 10., 11.]],\n",
       "\n",
       "       [[12., 13., 14., 15.],\n",
       "        [16., 17., 18., 19.],\n",
       "        [ 4.,  5.,  6.,  7.]]])"
      ]
     },
     "execution_count": 12,
     "metadata": {},
     "output_type": "execute_result"
    }
   ],
   "source": [
    "import numpy as np\n",
    "\n",
    "out = np.zeros((2,3,4))\n",
    "embed_W = np.arange(28).reshape(7,4)\n",
    "print(embed_W)\n",
    "idx = [0,3]\n",
    "out[:,0,:] = embed_W[idx]\n",
    "print(out) #  embed_W에서 0행과 3행을 추출하는데 shape확인할 것\n",
    "idx = [1,4]\n",
    "out[:,1,:] = embed_W[idx]\n",
    "print(out)\n",
    "idx = [2,1]\n",
    "out[:,2,:] = embed_W[idx]\n",
    "\n",
    "out\n",
    "\n"
   ]
  },
  {
   "cell_type": "code",
   "execution_count": 13,
   "metadata": {
    "ExecuteTime": {
     "end_time": "2022-07-14T12:42:10.907491Z",
     "start_time": "2022-07-14T12:42:10.891534Z"
    }
   },
   "outputs": [
    {
     "name": "stdout",
     "output_type": "stream",
     "text": [
      "[[[ 0  1  2]\n",
      "  [ 3  4  5]\n",
      "  [ 6  7  8]]\n",
      "\n",
      " [[ 9 10 11]\n",
      "  [12 13 14]\n",
      "  [15 16 17]]]\n",
      "[[ 0  1  2]\n",
      " [ 3  4  5]\n",
      " [ 6  7  8]\n",
      " [ 9 10 11]\n",
      " [12 13 14]\n",
      " [15 16 17]]\n"
     ]
    }
   ],
   "source": [
    "import numpy as np\n",
    "\n",
    "xs = np.arange(18).reshape(2,3,3)\n",
    "print(xs)\n",
    "rx  = xs.reshape(2*3,-1)\n",
    "print(rx)"
   ]
  }
 ],
 "metadata": {
  "kernelspec": {
   "display_name": "Python 3 (ipykernel)",
   "language": "python",
   "name": "python3"
  },
  "language_info": {
   "codemirror_mode": {
    "name": "ipython",
    "version": 3
   },
   "file_extension": ".py",
   "mimetype": "text/x-python",
   "name": "python",
   "nbconvert_exporter": "python",
   "pygments_lexer": "ipython3",
   "version": "3.9.7"
  },
  "toc": {
   "base_numbering": 1,
   "nav_menu": {},
   "number_sections": true,
   "sideBar": true,
   "skip_h1_title": false,
   "title_cell": "Table of Contents",
   "title_sidebar": "Contents",
   "toc_cell": false,
   "toc_position": {},
   "toc_section_display": true,
   "toc_window_display": true
  },
  "varInspector": {
   "cols": {
    "lenName": 16,
    "lenType": 16,
    "lenVar": 40
   },
   "kernels_config": {
    "python": {
     "delete_cmd_postfix": "",
     "delete_cmd_prefix": "del ",
     "library": "var_list.py",
     "varRefreshCmd": "print(var_dic_list())"
    },
    "r": {
     "delete_cmd_postfix": ") ",
     "delete_cmd_prefix": "rm(",
     "library": "var_list.r",
     "varRefreshCmd": "cat(var_dic_list()) "
    }
   },
   "types_to_exclude": [
    "module",
    "function",
    "builtin_function_or_method",
    "instance",
    "_Feature"
   ],
   "window_display": false
  }
 },
 "nbformat": 4,
 "nbformat_minor": 4
}
