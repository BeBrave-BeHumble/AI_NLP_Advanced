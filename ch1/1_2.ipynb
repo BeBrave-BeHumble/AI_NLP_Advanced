{
 "cells": [
  {
   "cell_type": "markdown",
   "metadata": {},
   "source": [
    "# 신경망의 추론"
   ]
  },
  {
   "cell_type": "markdown",
   "metadata": {},
   "source": [
    "## 미니배치 버전 파이썬 구현"
   ]
  },
  {
   "cell_type": "code",
   "execution_count": 1,
   "metadata": {
    "ExecuteTime": {
     "end_time": "2022-07-11T11:05:04.136009Z",
     "start_time": "2022-07-11T11:05:04.127064Z"
    }
   },
   "outputs": [],
   "source": [
    "import numpy as np\n",
    "\n",
    "W1 = np.random.rand(2, 4)"
   ]
  },
  {
   "cell_type": "code",
   "execution_count": 2,
   "metadata": {
    "ExecuteTime": {
     "end_time": "2022-07-11T11:05:05.608506Z",
     "start_time": "2022-07-11T11:05:05.588560Z"
    }
   },
   "outputs": [
    {
     "data": {
      "text/plain": [
       "array([[0.3795992 , 0.74358171, 0.63090108, 0.54630072],\n",
       "       [0.68828044, 0.05956848, 0.57674169, 0.46685474]])"
      ]
     },
     "execution_count": 2,
     "metadata": {},
     "output_type": "execute_result"
    }
   ],
   "source": [
    "W1"
   ]
  },
  {
   "cell_type": "code",
   "execution_count": 3,
   "metadata": {
    "ExecuteTime": {
     "end_time": "2022-07-11T11:05:07.124487Z",
     "start_time": "2022-07-11T11:05:07.104539Z"
    }
   },
   "outputs": [
    {
     "name": "stdout",
     "output_type": "stream",
     "text": [
      "(4,)\n"
     ]
    }
   ],
   "source": [
    "b1 = np.random.rand(4)\n",
    "print(b1.shape)"
   ]
  },
  {
   "cell_type": "code",
   "execution_count": 4,
   "metadata": {
    "ExecuteTime": {
     "end_time": "2022-07-11T11:05:08.456971Z",
     "start_time": "2022-07-11T11:05:08.441198Z"
    }
   },
   "outputs": [
    {
     "data": {
      "text/plain": [
       "array([0.07137378, 0.09348261, 0.56185016, 0.19008728])"
      ]
     },
     "execution_count": 4,
     "metadata": {},
     "output_type": "execute_result"
    }
   ],
   "source": [
    "b1"
   ]
  },
  {
   "cell_type": "code",
   "execution_count": 5,
   "metadata": {
    "ExecuteTime": {
     "end_time": "2022-07-11T11:05:09.652588Z",
     "start_time": "2022-07-11T11:05:09.640583Z"
    }
   },
   "outputs": [],
   "source": [
    "x = np.random.rand(10, 2)"
   ]
  },
  {
   "cell_type": "code",
   "execution_count": 6,
   "metadata": {
    "ExecuteTime": {
     "end_time": "2022-07-11T11:05:11.000454Z",
     "start_time": "2022-07-11T11:05:10.991478Z"
    }
   },
   "outputs": [
    {
     "data": {
      "text/plain": [
       "array([[0.12830978, 0.13501293],\n",
       "       [0.48775499, 0.12132483],\n",
       "       [0.96471826, 0.08949036],\n",
       "       [0.28710462, 0.5166599 ],\n",
       "       [0.39004025, 0.82942224],\n",
       "       [0.23651269, 0.40522106],\n",
       "       [0.97128587, 0.37512076],\n",
       "       [0.33645675, 0.44280837],\n",
       "       [0.92214738, 0.84163656],\n",
       "       [0.34812868, 0.83855293]])"
      ]
     },
     "execution_count": 6,
     "metadata": {},
     "output_type": "execute_result"
    }
   ],
   "source": [
    "x"
   ]
  },
  {
   "cell_type": "code",
   "execution_count": 7,
   "metadata": {
    "ExecuteTime": {
     "end_time": "2022-07-11T11:05:12.849550Z",
     "start_time": "2022-07-11T11:05:12.775582Z"
    }
   },
   "outputs": [],
   "source": [
    "h = np.matmul(x, W1) + b1  # (10,2)(2,4)+(4,)\n",
    "\n",
    "# 행렬곱"
   ]
  },
  {
   "cell_type": "code",
   "execution_count": 8,
   "metadata": {
    "ExecuteTime": {
     "end_time": "2022-07-11T11:05:13.907488Z",
     "start_time": "2022-07-11T11:05:13.893510Z"
    }
   },
   "outputs": [
    {
     "name": "stdout",
     "output_type": "stream",
     "text": [
      "(10, 4)\n",
      "[[0.21300682 0.19693394 0.72066853 0.32321443]\n",
      " [0.34003068 0.46339543 0.9395484  0.51318925]\n",
      " [0.49917451 0.81616027 1.22210477 0.75889255]\n",
      " [0.53596536 0.337745   1.04096408 0.58813786]\n",
      " [0.79030784 0.43291683 1.28628936 0.79038625]\n",
      " [0.44005953 0.29348753 0.94477415 0.5084737 ]\n",
      " [0.69826139 0.83805839 1.39098324 0.89582835]\n",
      " [0.50386882 0.37004312 1.02950714 0.58062103]\n",
      " [1.00070216 0.82930955 1.62904083 1.08677907]\n",
      " [0.78068272 0.40229605 1.26511336 0.77175264]]\n"
     ]
    }
   ],
   "source": [
    "print(h.shape)\n",
    "print(h)"
   ]
  },
  {
   "cell_type": "markdown",
   "metadata": {},
   "source": [
    "## 시그모이드 함수"
   ]
  },
  {
   "cell_type": "code",
   "execution_count": 10,
   "metadata": {},
   "outputs": [],
   "source": [
    "def sigmoid(x):\n",
    "    return 1 / ( 1 + np.exp(-x))"
   ]
  },
  {
   "cell_type": "code",
   "execution_count": 11,
   "metadata": {},
   "outputs": [
    {
     "data": {
      "image/png": "[encoded data removed]",
      "text/plain": [
       "<Figure size 432x288 with 1 Axes>"
      ]
     },
     "metadata": {
      "needs_background": "light"
     },
     "output_type": "display_data"
    }
   ],
   "source": [
    "import matplotlib.pyplot as plt\n",
    "zs = np.arange(-10., 10., 0.1)\n",
    "gs = [sigmoid(z) for z in zs]\n",
    "plt.plot(zs, gs)\n",
    "plt.xlabel('z')\n",
    "plt.ylabel('1/(1+e^-z)')\n",
    "plt.show()"
   ]
  },
  {
   "cell_type": "code",
   "execution_count": 9,
   "metadata": {
    "ExecuteTime": {
     "end_time": "2022-07-11T11:08:20.867448Z",
     "start_time": "2022-07-11T11:08:20.850491Z"
    }
   },
   "outputs": [],
   "source": [
    "def sigmoid(x):\n",
    "    return 1 / ( 1 + np.exp(-x))\n",
    "\n",
    "x = np.random.rand(10, 2)\n",
    "W1 = np.random.randn(2, 4)\n",
    "b1 = np.random.rand(4)\n",
    "W2 = np.random.randn(4, 3)\n",
    "b2 = np.random.rand(3)\n",
    "\n",
    "h = np.matmul(x, W1) + b1  # (10,2)(2,4)+(4,) => 은닉층\n",
    "a = sigmoid(h)             # (10,4)           => 시그모이드 \n",
    "s = np.matmul(a, W2) + b2  # (10,4)(4,3)+(3,) => 출력층"
   ]
  },
  {
   "cell_type": "code",
   "execution_count": 10,
   "metadata": {
    "ExecuteTime": {
     "end_time": "2022-07-11T11:08:23.127557Z",
     "start_time": "2022-07-11T11:08:23.113590Z"
    }
   },
   "outputs": [
    {
     "name": "stdout",
     "output_type": "stream",
     "text": [
      "(10, 4)\n",
      "[[ 1.54515991  1.42422418  0.16892358 -0.27751333]\n",
      " [ 1.75090056  1.87917809  0.40217806 -0.83949968]\n",
      " [ 0.92981121  1.88769945  1.01020316 -0.65141898]\n",
      " [ 0.55324171  1.34952211  0.83174497  0.0454365 ]\n",
      " [ 0.82066566  1.80772092  1.02259984 -0.53505524]\n",
      " [ 0.69817814  1.60099717  0.9378353  -0.27271531]\n",
      " [ 0.62424179  1.71587124  1.08884818 -0.38430754]\n",
      " [ 1.58829235  2.11000168  0.71589385 -1.06034791]\n",
      " [ 1.75323008  2.03601401  0.53278267 -1.01671834]\n",
      " [ 0.9438298   1.37909745  0.57088036 -0.08191168]]\n"
     ]
    }
   ],
   "source": [
    "print(h.shape)\n",
    "print(h)"
   ]
  },
  {
   "cell_type": "code",
   "execution_count": 11,
   "metadata": {
    "ExecuteTime": {
     "end_time": "2022-07-11T11:08:29.286002Z",
     "start_time": "2022-07-11T11:08:29.276028Z"
    }
   },
   "outputs": [
    {
     "name": "stdout",
     "output_type": "stream",
     "text": [
      "(10, 4)\n",
      "[[0.82421357 0.80599978 0.54213076 0.43106352]\n",
      " [0.85206635 0.86751669 0.59921085 0.30164017]\n",
      " [0.71703698 0.868493   0.73305991 0.34266984]\n",
      " [0.63488737 0.79405149 0.69672377 0.51135717]\n",
      " [0.69437762 0.8590862  0.73547871 0.36933861]\n",
      " [0.66778372 0.83215771 0.71866219 0.43224061]\n",
      " [0.65118266 0.84759626 0.74816476 0.40508839]\n",
      " [0.83037571 0.8918715  0.67170218 0.25724297]\n",
      " [0.85235975 0.88452677 0.63013189 0.26566712]\n",
      " [0.71987261 0.79884601 0.63896629 0.47953352]]\n"
     ]
    }
   ],
   "source": [
    "print(a.shape)\n",
    "print(a)"
   ]
  },
  {
   "cell_type": "code",
   "execution_count": 24,
   "metadata": {},
   "outputs": [
    {
     "name": "stdout",
     "output_type": "stream",
     "text": [
      "(10, 3)\n",
      "[[-0.35717499  0.11651739  0.1536909 ]\n",
      " [-0.063664   -0.0232528   0.24150763]\n",
      " [-0.44229311  0.10717764  0.12231435]\n",
      " [ 0.87917556  0.09189693  0.606493  ]\n",
      " [ 0.26108331  0.13472499  0.37866988]\n",
      " [ 0.19764355  0.15272128  0.35804612]\n",
      " [ 0.18898391 -0.03512675  0.32989685]\n",
      " [-0.32519422  0.0832779   0.16101362]\n",
      " [ 0.14984754  0.10511372  0.33389582]\n",
      " [ 0.9290695   0.07265787  0.6221152 ]]\n"
     ]
    }
   ],
   "source": [
    "print(s.shape)\n",
    "print(s) # 시그모이드 -> 모든 값이 0~1사이 값으로 변환됨"
   ]
  },
  {
   "cell_type": "markdown",
   "metadata": {},
   "source": [
    "## 계층으로 클래스화 및 순전파 구현"
   ]
  },
  {
   "cell_type": "markdown",
   "metadata": {},
   "source": [
    "### 파이썬 참조 계수"
   ]
  },
  {
   "cell_type": "code",
   "execution_count": 12,
   "metadata": {
    "ExecuteTime": {
     "end_time": "2022-07-11T11:17:30.452180Z",
     "start_time": "2022-07-11T11:17:30.427258Z"
    }
   },
   "outputs": [
    {
     "name": "stdout",
     "output_type": "stream",
     "text": [
      "2\n",
      "3\n",
      "[1 2 3]\n",
      "[ 1 10  3]\n",
      "[ 1 10  3]\n",
      "2\n"
     ]
    }
   ],
   "source": [
    "import sys\n",
    "a = np.array([1,2,3])\n",
    "print( sys.getrefcount(a) )\n",
    "b = a\n",
    "print( sys.getrefcount(a) )\n",
    "print(b)\n",
    "b[1] = 10\n",
    "print(b)\n",
    "print(a)\n",
    "del b\n",
    "print( sys.getrefcount(a) )"
   ]
  },
  {
   "cell_type": "code",
   "execution_count": 13,
   "metadata": {
    "ExecuteTime": {
     "end_time": "2022-07-11T11:17:31.774649Z",
     "start_time": "2022-07-11T11:17:31.753698Z"
    }
   },
   "outputs": [
    {
     "name": "stdout",
     "output_type": "stream",
     "text": [
      "foo()\n",
      "2\n",
      "3\n",
      "foo()\n",
      "2\n"
     ]
    }
   ],
   "source": [
    "import sys\n",
    "\n",
    "def foo():\n",
    "    print('foo()')\n",
    "\n",
    "foo()\n",
    "print( sys.getrefcount(foo) )\n",
    "bar = foo\n",
    "print( sys.getrefcount(bar) )\n",
    "bar()\n",
    "del bar\n",
    "print( sys.getrefcount(foo) )"
   ]
  },
  {
   "cell_type": "code",
   "execution_count": 14,
   "metadata": {
    "ExecuteTime": {
     "end_time": "2022-07-11T11:17:33.254440Z",
     "start_time": "2022-07-11T11:17:33.241469Z"
    }
   },
   "outputs": [],
   "source": [
    "import numpy as np\n",
    "\n",
    "class Sigmoid:\n",
    "    def __init__(self):\n",
    "        self.params = []\n",
    "\n",
    "    def forward(self, x):\n",
    "        return 1 / (1 + np.exp(-x))\n",
    "\n",
    "\n",
    "class Affine:\n",
    "    def __init__(self, W, b):\n",
    "        self.params = [W, b]\n",
    "\n",
    "    def forward(self, x):\n",
    "        W, b = self.params\n",
    "        out = np.dot(x, W) + b\n",
    "        return out"
   ]
  },
  {
   "cell_type": "code",
   "execution_count": 15,
   "metadata": {
    "ExecuteTime": {
     "end_time": "2022-07-11T11:17:35.062704Z",
     "start_time": "2022-07-11T11:17:35.055687Z"
    }
   },
   "outputs": [],
   "source": [
    "class TwoLayerNet:\n",
    "    def __init__(self, input_size, hidden_size, output_size):\n",
    "        I, H, O = input_size, hidden_size, output_size\n",
    "\n",
    "        # 가중치와 편향 초기화\n",
    "        W1 = np.random.randn(I, H)\n",
    "        b1 = np.random.randn(H)\n",
    "        W2 = np.random.randn(H, O)\n",
    "        b2 = np.random.randn(O)\n",
    "\n",
    "        # 계층 생성\n",
    "        self.layers = [\n",
    "            Affine(W1, b1),\n",
    "            Sigmoid(),\n",
    "            Affine(W2, b2)\n",
    "        ]\n",
    "\n",
    "        # 모든 가중치를 리스트에 모은다.\n",
    "        self.params = []\n",
    "        for layer in self.layers:\n",
    "            self.params += layer.params\n",
    "\n",
    "    def predict(self, x):\n",
    "        for layer in self.layers:\n",
    "            x = layer.forward(x)\n",
    "        return x"
   ]
  },
  {
   "cell_type": "code",
   "execution_count": 16,
   "metadata": {
    "ExecuteTime": {
     "end_time": "2022-07-11T11:17:39.092449Z",
     "start_time": "2022-07-11T11:17:39.072501Z"
    }
   },
   "outputs": [
    {
     "data": {
      "text/plain": [
       "['A', 'B', 'C', 'D']"
      ]
     },
     "execution_count": 16,
     "metadata": {},
     "output_type": "execute_result"
    }
   ],
   "source": [
    "a = ['A', 'B']\n",
    "a += ['C', 'D']\n",
    "a"
   ]
  },
  {
   "cell_type": "code",
   "execution_count": 41,
   "metadata": {},
   "outputs": [
    {
     "name": "stdout",
     "output_type": "stream",
     "text": [
      "(10, 3)\n",
      "[[ 0.12855732 -2.15781098  1.50431475]\n",
      " [ 0.81151884 -1.76701496  0.99523067]\n",
      " [ 0.43198568 -2.50936758  0.40959629]\n",
      " [ 0.27643667 -2.30569528  0.99838863]\n",
      " [ 0.46974422 -2.47279748  0.39949309]\n",
      " [ 0.60644197 -2.33127821  0.5211233 ]\n",
      " [ 0.67534542 -2.17559657  0.53321426]\n",
      " [ 0.33106789 -2.1663744   1.12407338]\n",
      " [ 0.28909134 -2.36936776  0.89483068]\n",
      " [ 0.52631543 -1.99989377  1.06910849]]\n"
     ]
    }
   ],
   "source": [
    "x = np.random.randn(10, 2)\n",
    "model = TwoLayerNet(2, 4, 3)\n",
    "s = model.predict(x)\n",
    "print(s.shape)\n",
    "print(s)\n",
    "# 출력 결과: 샘플 당 3개의 분류가 있다는 것임"
   ]
  },
  {
   "cell_type": "code",
   "execution_count": null,
   "metadata": {},
   "outputs": [],
   "source": []
  }
 ],
 "metadata": {
  "kernelspec": {
   "display_name": "Python 3 (ipykernel)",
   "language": "python",
   "name": "python3"
  },
  "language_info": {
   "codemirror_mode": {
    "name": "ipython",
    "version": 3
   },
   "file_extension": ".py",
   "mimetype": "text/x-python",
   "name": "python",
   "nbconvert_exporter": "python",
   "pygments_lexer": "ipython3",
   "version": "3.9.7"
  },
  "toc": {
   "base_numbering": 1,
   "nav_menu": {},
   "number_sections": true,
   "sideBar": true,
   "skip_h1_title": false,
   "title_cell": "Table of Contents",
   "title_sidebar": "Contents",
   "toc_cell": false,
   "toc_position": {},
   "toc_section_display": true,
   "toc_window_display": false
  },
  "varInspector": {
   "cols": {
    "lenName": 16,
    "lenType": 16,
    "lenVar": 40
   },
   "kernels_config": {
    "python": {
     "delete_cmd_postfix": "",
     "delete_cmd_prefix": "del ",
     "library": "var_list.py",
     "varRefreshCmd": "print(var_dic_list())"
    },
    "r": {
     "delete_cmd_postfix": ") ",
     "delete_cmd_prefix": "rm(",
     "library": "var_list.r",
     "varRefreshCmd": "cat(var_dic_list()) "
    }
   },
   "types_to_exclude": [
    "module",
    "function",
    "builtin_function_or_method",
    "instance",
    "_Feature"
   ],
   "window_display": false
  }
 },
 "nbformat": 4,
 "nbformat_minor": 4
}
