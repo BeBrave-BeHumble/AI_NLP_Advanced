{
 "cells": [
  {
   "cell_type": "markdown",
   "metadata": {},
   "source": [
    "### LSTM을 사용한 언어 모델"
   ]
  },
  {
   "cell_type": "code",
   "execution_count": 1,
   "metadata": {
    "ExecuteTime": {
     "end_time": "2022-07-15T12:17:09.419361Z",
     "start_time": "2022-07-15T12:17:09.343547Z"
    }
   },
   "outputs": [],
   "source": [
    "import sys\n",
    "sys.path.append('..')\n",
    "from common.time_layers import *\n",
    "from common.base_model import BaseModel\n",
    "\n",
    "class Rnnlm(BaseModel):\n",
    "    def __init__(self, vocab_size=10000, wordvec_size=100, hidden_size=100):\n",
    "        V, D, H = vocab_size, wordvec_size, hidden_size\n",
    "        rn = np.random.randn\n",
    "\n",
    "        # 가중치 초기화\n",
    "        embed_W = (rn(V, D) / 100).astype('f')\n",
    "        lstm_Wx = (rn(D, 4 * H) / np.sqrt(D)).astype('f') # np.sqrt(D): 사비에르 초기화\n",
    "        # (D,H)인데 4*H가 포인트!!!! Wx가 4개인 것을 1개로 합친 것임 그래서 6_3에서 아핀 4개를 1개로 압축\n",
    "        # 즉, 열 방향으로 weight 4개를 주르륵 붙임. PPT p.274에서 Wx그림\n",
    "        lstm_Wh = (rn(H, 4 * H) / np.sqrt(H)).astype('f')\n",
    "        lstm_b = np.zeros(4 * H).astype('f')\n",
    "        affine_W = (rn(H, V) / np.sqrt(H)).astype('f')\n",
    "        affine_b = np.zeros(V).astype('f')\n",
    "\n",
    "        # 계층 생성\n",
    "        self.layers = [\n",
    "            TimeEmbedding(embed_W), # 벡터로 바꾸고\n",
    "            TimeLSTM(lstm_Wx, lstm_Wh, lstm_b, stateful=True),\n",
    "            TimeAffine(affine_W, affine_b) # 행렬곱으로 단어를 내뱉고\n",
    "        ]\n",
    "        self.loss_layer = TimeSoftmaxWithLoss() # 확률로 바꾸고\n",
    "        self.lstm_layer = self.layers[1]\n",
    "\n",
    "        # 모든 가중치와 기울기를 리스트에 모은다.\n",
    "        self.params, self.grads = [], []\n",
    "        for layer in self.layers:\n",
    "            self.params += layer.params\n",
    "            self.grads += layer.grads\n",
    "\n",
    "    def predict(self, xs):\n",
    "        for layer in self.layers:\n",
    "            xs = layer.forward(xs)\n",
    "        return xs\n",
    "\n",
    "    def forward(self, xs, ts):\n",
    "        score = self.predict(xs)\n",
    "        loss = self.loss_layer.forward(score, ts)\n",
    "        return loss\n",
    "\n",
    "    def backward(self, dout=1):\n",
    "        dout = self.loss_layer.backward(dout)\n",
    "        for layer in reversed(self.layers):\n",
    "            dout = layer.backward(dout)\n",
    "        return dout\n",
    "\n",
    "    def reset_state(self):\n",
    "        self.lstm_layer.reset_state()\n"
   ]
  },
  {
   "cell_type": "markdown",
   "metadata": {},
   "source": [
    "### 학습을 위한 코드"
   ]
  },
  {
   "cell_type": "code",
   "execution_count": null,
   "metadata": {
    "ExecuteTime": {
     "start_time": "2022-07-15T12:17:12.348Z"
    }
   },
   "outputs": [
    {
     "name": "stdout",
     "output_type": "stream",
     "text": [
      "10000\n",
      "| 에폭 1 |  반복 1 / 1327 | 시간 0[s] | 퍼플렉서티 9999.54\n",
      "| 에폭 1 |  반복 21 / 1327 | 시간 7[s] | 퍼플렉서티 2914.99\n",
      "| 에폭 1 |  반복 41 / 1327 | 시간 15[s] | 퍼플렉서티 1264.51\n",
      "| 에폭 1 |  반복 61 / 1327 | 시간 22[s] | 퍼플렉서티 988.25\n",
      "| 에폭 1 |  반복 81 / 1327 | 시간 29[s] | 퍼플렉서티 834.10\n",
      "| 에폭 1 |  반복 101 / 1327 | 시간 36[s] | 퍼플렉서티 660.77\n",
      "| 에폭 1 |  반복 121 / 1327 | 시간 45[s] | 퍼플렉서티 659.60\n",
      "| 에폭 1 |  반복 141 / 1327 | 시간 62[s] | 퍼플렉서티 579.66\n",
      "| 에폭 1 |  반복 161 / 1327 | 시간 77[s] | 퍼플렉서티 586.09\n",
      "| 에폭 1 |  반복 181 / 1327 | 시간 85[s] | 퍼플렉서티 587.44\n",
      "| 에폭 1 |  반복 201 / 1327 | 시간 93[s] | 퍼플렉서티 496.31\n",
      "| 에폭 1 |  반복 221 / 1327 | 시간 102[s] | 퍼플렉서티 491.94\n",
      "| 에폭 1 |  반복 241 / 1327 | 시간 108[s] | 퍼플렉서티 452.41\n",
      "| 에폭 1 |  반복 261 / 1327 | 시간 116[s] | 퍼플렉서티 465.27\n",
      "| 에폭 1 |  반복 281 / 1327 | 시간 124[s] | 퍼플렉서티 464.34\n",
      "| 에폭 1 |  반복 301 / 1327 | 시간 132[s] | 퍼플렉서티 394.92\n",
      "| 에폭 1 |  반복 321 / 1327 | 시간 140[s] | 퍼플렉서티 351.75\n",
      "| 에폭 1 |  반복 341 / 1327 | 시간 150[s] | 퍼플렉서티 399.17\n",
      "| 에폭 1 |  반복 361 / 1327 | 시간 160[s] | 퍼플렉서티 412.88\n",
      "| 에폭 1 |  반복 381 / 1327 | 시간 172[s] | 퍼플렉서티 338.85\n",
      "| 에폭 1 |  반복 401 / 1327 | 시간 180[s] | 퍼플렉서티 354.11\n",
      "| 에폭 1 |  반복 421 / 1327 | 시간 187[s] | 퍼플렉서티 350.61\n",
      "| 에폭 1 |  반복 441 / 1327 | 시간 194[s] | 퍼플렉서티 326.27\n",
      "| 에폭 1 |  반복 461 / 1327 | 시간 201[s] | 퍼플렉서티 334.46\n",
      "| 에폭 1 |  반복 481 / 1327 | 시간 209[s] | 퍼플렉서티 304.78\n",
      "| 에폭 1 |  반복 501 / 1327 | 시간 217[s] | 퍼플렉서티 318.54\n",
      "| 에폭 1 |  반복 521 / 1327 | 시간 225[s] | 퍼플렉서티 303.77\n",
      "| 에폭 1 |  반복 541 / 1327 | 시간 233[s] | 퍼플렉서티 321.07\n",
      "| 에폭 1 |  반복 561 / 1327 | 시간 242[s] | 퍼플렉서티 290.47\n",
      "| 에폭 1 |  반복 581 / 1327 | 시간 250[s] | 퍼플렉서티 260.91\n",
      "| 에폭 1 |  반복 601 / 1327 | 시간 258[s] | 퍼플렉서티 339.18\n",
      "| 에폭 1 |  반복 621 / 1327 | 시간 267[s] | 퍼플렉서티 313.35\n",
      "| 에폭 1 |  반복 641 / 1327 | 시간 274[s] | 퍼플렉서티 287.51\n",
      "| 에폭 1 |  반복 661 / 1327 | 시간 282[s] | 퍼플렉서티 271.59\n",
      "| 에폭 1 |  반복 681 / 1327 | 시간 290[s] | 퍼플렉서티 229.18\n",
      "| 에폭 1 |  반복 701 / 1327 | 시간 298[s] | 퍼플렉서티 253.98\n",
      "| 에폭 1 |  반복 721 / 1327 | 시간 307[s] | 퍼플렉서티 266.07\n",
      "| 에폭 1 |  반복 741 / 1327 | 시간 315[s] | 퍼플렉서티 225.87\n",
      "| 에폭 1 |  반복 761 / 1327 | 시간 322[s] | 퍼플렉서티 234.04\n",
      "| 에폭 1 |  반복 781 / 1327 | 시간 329[s] | 퍼플렉서티 219.98\n",
      "| 에폭 1 |  반복 801 / 1327 | 시간 337[s] | 퍼플렉서티 243.51\n",
      "| 에폭 1 |  반복 821 / 1327 | 시간 345[s] | 퍼플렉서티 226.12\n",
      "| 에폭 1 |  반복 841 / 1327 | 시간 353[s] | 퍼플렉서티 231.41\n",
      "| 에폭 1 |  반복 861 / 1327 | 시간 362[s] | 퍼플렉서티 223.00\n",
      "| 에폭 1 |  반복 881 / 1327 | 시간 370[s] | 퍼플렉서티 205.50\n",
      "| 에폭 1 |  반복 901 / 1327 | 시간 378[s] | 퍼플렉서티 255.36\n",
      "| 에폭 1 |  반복 921 / 1327 | 시간 385[s] | 퍼플렉서티 229.59\n",
      "| 에폭 1 |  반복 941 / 1327 | 시간 393[s] | 퍼플렉서티 231.46\n",
      "| 에폭 1 |  반복 961 / 1327 | 시간 401[s] | 퍼플렉서티 245.29\n"
     ]
    }
   ],
   "source": [
    "''' 오래 걸림 !! '''\n",
    "\n",
    "import sys\n",
    "sys.path.append('..')\n",
    "from common.optimizer import SGD\n",
    "from common.trainer import RnnlmTrainer\n",
    "from common.util import eval_perplexity\n",
    "from dataset import ptb\n",
    "from rnnlm import Rnnlm\n",
    "\n",
    "\n",
    "# 하이퍼파라미터 설정\n",
    "batch_size = 20\n",
    "wordvec_size = 100\n",
    "hidden_size = 100  # RNN의 은닉 상태 벡터의 원소 수\n",
    "time_size = 35     # RNN을 펼치는 크기\n",
    "lr = 20.0\n",
    "max_epoch = 10\n",
    "max_grad = 0.25\n",
    "\n",
    "# 학습 데이터 읽기\n",
    "corpus, word_to_id, id_to_word = ptb.load_data('train')\n",
    "corpus_test, _, _ = ptb.load_data('test')\n",
    "vocab_size = len(word_to_id)\n",
    "print(vocab_size)\n",
    "# corpus = corpus[:10000]\n",
    "xs = corpus[:-1]\n",
    "ts = corpus[1:]\n",
    "\n",
    "# 모델 생성\n",
    "model = Rnnlm(vocab_size, wordvec_size, hidden_size)\n",
    "optimizer = SGD(lr)\n",
    "trainer = RnnlmTrainer(model, optimizer)\n",
    "\n",
    "# 기울기 클리핑을 적용하여 학습\n",
    "trainer.fit(xs, ts, max_epoch, batch_size, time_size, max_grad,\n",
    "            eval_interval=20)\n",
    "trainer.plot(ylim=(0, 5000))\n",
    "\n"
   ]
  },
  {
   "cell_type": "code",
   "execution_count": 5,
   "metadata": {},
   "outputs": [
    {
     "name": "stdout",
     "output_type": "stream",
     "text": [
      "퍼플렉서티 평가 중 ...\n",
      "162 / 163\n",
      "테스트 퍼플렉서티:  871.1067200481173\n"
     ]
    }
   ],
   "source": [
    "corpus_test, _, _ = ptb.load_data('test')\n",
    "# 테스트 데이터로 평가\n",
    "model.reset_state()\n",
    "ppl_test = eval_perplexity(model, corpus_test)\n",
    "print('테스트 퍼플렉서티: ', ppl_test)\n",
    "\n",
    "# 매개변수 저장\n",
    "model.save_params()"
   ]
  },
  {
   "cell_type": "code",
   "execution_count": null,
   "metadata": {},
   "outputs": [],
   "source": []
  }
 ],
 "metadata": {
  "kernelspec": {
   "display_name": "Python 3 (ipykernel)",
   "language": "python",
   "name": "python3"
  },
  "language_info": {
   "codemirror_mode": {
    "name": "ipython",
    "version": 3
   },
   "file_extension": ".py",
   "mimetype": "text/x-python",
   "name": "python",
   "nbconvert_exporter": "python",
   "pygments_lexer": "ipython3",
   "version": "3.9.7"
  },
  "toc": {
   "base_numbering": 1,
   "nav_menu": {},
   "number_sections": true,
   "sideBar": true,
   "skip_h1_title": false,
   "title_cell": "Table of Contents",
   "title_sidebar": "Contents",
   "toc_cell": false,
   "toc_position": {},
   "toc_section_display": true,
   "toc_window_display": true
  },
  "varInspector": {
   "cols": {
    "lenName": 16,
    "lenType": 16,
    "lenVar": 40
   },
   "kernels_config": {
    "python": {
     "delete_cmd_postfix": "",
     "delete_cmd_prefix": "del ",
     "library": "var_list.py",
     "varRefreshCmd": "print(var_dic_list())"
    },
    "r": {
     "delete_cmd_postfix": ") ",
     "delete_cmd_prefix": "rm(",
     "library": "var_list.r",
     "varRefreshCmd": "cat(var_dic_list()) "
    }
   },
   "types_to_exclude": [
    "module",
    "function",
    "builtin_function_or_method",
    "instance",
    "_Feature"
   ],
   "window_display": false
  }
 },
 "nbformat": 4,
 "nbformat_minor": 4
}
