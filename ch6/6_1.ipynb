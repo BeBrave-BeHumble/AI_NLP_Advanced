{
 "cells": [
  {
   "cell_type": "markdown",
   "metadata": {},
   "source": [
    "### 기울기 소실과 기울기 폭발의 원인"
   ]
  },
  {
   "cell_type": "code",
   "execution_count": 1,
   "metadata": {
    "ExecuteTime": {
     "end_time": "2022-07-15T10:04:07.429960Z",
     "start_time": "2022-07-15T10:04:07.416979Z"
    }
   },
   "outputs": [
    {
     "name": "stdout",
     "output_type": "stream",
     "text": [
      "12.409673645990857\n"
     ]
    }
   ],
   "source": [
    "import numpy as np\n",
    "a = np.array([[2.,3.,-1.,4.,-5.],\n",
    "              [1.,3.,-7.,2.,-6.]])\n",
    "a *= 2\n",
    "norm = np.sqrt(np.sum(a**2)) / 2 # L2-norm\n",
    "print(norm)"
   ]
  },
  {
   "cell_type": "code",
   "execution_count": 13,
   "metadata": {
    "ExecuteTime": {
     "end_time": "2022-07-15T10:14:44.627112Z",
     "start_time": "2022-07-15T10:14:44.466545Z"
    }
   },
   "outputs": [
    {
     "name": "stdout",
     "output_type": "stream",
     "text": [
      "[1.9660860237332416, 2.116212097993695, 2.4170358261190943, 2.5274014203977324, 2.590490440137253, 2.617506816392389, 2.630889453156624, 2.6366768407555536, 2.6391731704025707, 2.6400037331007913, 2.6400722641483294, 2.6397691239325582, 2.639292140968135, 2.638731689818709, 2.638131890953925, 2.637513377982821, 2.6368860706063892, 2.636254653493981, 2.6356213645439577, 2.6349872649210995]\n"
     ]
    },
    {
     "data": {
      "image/png": "[encoded data removed]",
      "text/plain": [
       "<Figure size 432x288 with 1 Axes>"
      ]
     },
     "metadata": {
      "needs_background": "light"
     },
     "output_type": "display_data"
    }
   ],
   "source": [
    "import numpy as np\n",
    "import matplotlib.pyplot as plt\n",
    "plt.rc('font', family='Malgun Gothic')\n",
    "\n",
    "N = 2   # 미니배치 크기\n",
    "H = 3   # 은닉 상태 벡터의 차원 수\n",
    "T = 20  # 시계열 데이터의 길이\n",
    "\n",
    "dh = np.ones((N, H)) # 1로 초기화\n",
    "# norm = np.sqrt(np.sum(dh**2)) / N # L2-norm을 배치수로 나누면 배치 하나 당 스칼라 값\n",
    "# print(norm) # 1.224744871391589\n",
    "\n",
    "np.random.seed(3) # 재현할 수 있도록 난수의 시드 고정\n",
    "\n",
    "# Wh = np.random.randn(H, H)  # 평균:0, 표준편차:1\n",
    "# # print(Wh) # seed=3 고정이기 때문에 매번 같은 난수 추출\n",
    "# # print(Wh.T)\n",
    "# dh = np.dot(dh, Wh.T)\n",
    "# print(dh) # 항상 일정 =\n",
    "# norm = np.sqrt(np.sum(dh**2)) / N\n",
    "# print(norm) # 2.4684068094579303 => 평균0, std1보다는 노름이 더 큼. \n",
    "Wh = np.random.randn(H, H) * 0.7965 # => 기울기가 갈수록 x축에 거의 평행하는 것을 알 수 있음\n",
    "# Wh = np.random.randn(H, H) * 0.5 # 평균 0, std/2로 계산해보기 => 기울기 소실\n",
    "# Wh = np.random.randn(H, H) # 평균0, std1 => 기울기 폭발\n",
    "'''기울기가 소실된 건 막을 수 없지만 폭발하는 것은 특정한 값을 나누어주면 폭발을 막을 수 있다!\n",
    "            => 기울기 클리핑(gradients clipping)~~~~\n",
    "            넘친 만큼 나누기 하여 기울기를 깎음 '''\n",
    "# norm = np.sqrt(np.sum(Wh**2)) / H \n",
    "# print(norm)\n",
    "\n",
    "norm_list = []\n",
    "for t in range(T): # 평균0, std1로 난수 추출했을 때 계산 결과가 기하급수적으로 커지는지 작아지는지 확인\n",
    "    dh = np.dot(dh, Wh.T)\n",
    "    norm = np.sqrt(np.sum(dh**2)) / N\n",
    "    norm_list.append(norm)\n",
    "\n",
    "print(norm_list) # [2.4684068094579303, 3.3357049741610365, 4.783279375373182 ... 점점 커짐 => 기울기 폭발\n",
    "\n",
    "# # 그래프 그리기\n",
    "plt.plot(np.arange(len(norm_list)), norm_list)\n",
    "plt.xticks([0, 4, 9, 14, 19], [1, 5, 10, 15, 20])\n",
    "plt.xlabel('시간 크기(time step)')\n",
    "plt.ylabel('노름(norm)')\n",
    "plt.show()"
   ]
  },
  {
   "cell_type": "markdown",
   "metadata": {},
   "source": [
    "### 기울기 폭발 대책"
   ]
  },
  {
   "cell_type": "code",
   "execution_count": 20,
   "metadata": {
    "ExecuteTime": {
     "end_time": "2022-07-15T10:29:40.919320Z",
     "start_time": "2022-07-15T10:29:40.875438Z"
    }
   },
   "outputs": [
    {
     "name": "stdout",
     "output_type": "stream",
     "text": [
      "before: [4. 4. 4. 6. 6. 6. 8. 8. 8.]\n",
      "6.21825270205921\n",
      "0.804084271818022\n",
      "4.999999195915728\n",
      "after: [3.21633709 3.21633709 3.21633709 4.82450563 4.82450563 4.82450563\n",
      " 6.43267417 6.43267417 6.43267417]\n"
     ]
    }
   ],
   "source": [
    "import numpy as np\n",
    "\n",
    "np.random.seed(3)\n",
    "# dh_next = np.random.rand(3, 3) * 5\n",
    "dh_next = np.array([[2.,2.,2.], # 뒤에서 날아온 미분값이 이라고 가정 \n",
    "               [3.,3.,3.],\n",
    "               [4.,4.,4.]])\n",
    "dh_next = dh_next * 2\n",
    "# norm = np.sqrt(np.sum(dh_next**2)) / 3\n",
    "# print(norm) # 3.109126351029605 => 2,3,4의 중간이며 max_norm이라는 threshold는 넘치지 않음..\n",
    "\n",
    "max_norm = 5.0 # threshold. 최대한 L2-norm이 0.5를 넘지 않도록~\n",
    "\n",
    "def clip_grads(grads, max_norm):\n",
    "    total_norm = 0\n",
    "    total_norm += np.sum(grads ** 2) # 그래디언트가 여러개라고 가정했을 때\n",
    "    total_norm = np.sqrt(total_norm) / 3\n",
    "\n",
    "    print(total_norm)\n",
    "    rate = max_norm / (total_norm + 1e-6) # 노름끼리의 평균\n",
    "    print(rate)\n",
    "    if rate < 1:\n",
    "        grads *= rate\n",
    "        \n",
    "    total_norm = 0\n",
    "    total_norm += np.sum(grads ** 2)\n",
    "    total_norm = np.sqrt(total_norm) / 3 # 원래 노름이 6.21825270205921 이었는데 4.999999195915728로 절대 0.5를 넘지 않음~\n",
    "    print(total_norm)\n",
    "\n",
    "print('before:', dh_next.flatten())\n",
    "clip_grads(dh_next, max_norm)\n",
    "print('after:', dh_next.flatten())"
   ]
  },
  {
   "cell_type": "code",
   "execution_count": 22,
   "metadata": {
    "ExecuteTime": {
     "end_time": "2022-07-15T10:30:25.293279Z",
     "start_time": "2022-07-15T10:30:25.267344Z"
    }
   },
   "outputs": [
    {
     "name": "stdout",
     "output_type": "stream",
     "text": [
      "before: [2.59252447 4.15101197 2.83525082 6.93137918 4.40453718 1.56867738\n",
      " 5.44649018 7.80314765 3.06363532]\n",
      "24.86242625109438\n",
      "0.2011066719071008\n",
      "4.9999997988933265\n",
      "after: [0.52137397 0.8347962  0.57018786 1.3939466  0.88578181 0.31547149\n",
      " 1.09532551 1.56926505 0.6161175 ]\n"
     ]
    }
   ],
   "source": [
    "import numpy as np\n",
    "\n",
    "dW1 = np.random.rand(3, 3) * 10\n",
    "dW2 = np.random.rand(3, 3) * 10\n",
    "grads = [dW1, dW2]\n",
    "max_norm = 5.0\n",
    "\n",
    "\n",
    "def clip_grads(grads, max_norm):\n",
    "    total_norm = 0\n",
    "    for grad in grads:\n",
    "        total_norm += np.sum(grad ** 2)\n",
    "    total_norm = np.sqrt(total_norm)\n",
    "\n",
    "    print(total_norm)\n",
    "    rate = max_norm / (total_norm + 1e-6)\n",
    "    print(rate)\n",
    "    if rate < 1:\n",
    "        for grad in grads:\n",
    "            grad *= rate\n",
    "            \n",
    "    total_norm = 0\n",
    "    for grad in grads:\n",
    "        total_norm += np.sum(grad ** 2)\n",
    "    total_norm = np.sqrt(total_norm)\n",
    "\n",
    "    print(total_norm)\n",
    "\n",
    "\n",
    "print('before:', dW1.flatten())\n",
    "clip_grads(grads, max_norm)\n",
    "print('after:', dW1.flatten())"
   ]
  },
  {
   "cell_type": "code",
   "execution_count": null,
   "metadata": {},
   "outputs": [],
   "source": []
  }
 ],
 "metadata": {
  "kernelspec": {
   "display_name": "Python 3 (ipykernel)",
   "language": "python",
   "name": "python3"
  },
  "language_info": {
   "codemirror_mode": {
    "name": "ipython",
    "version": 3
   },
   "file_extension": ".py",
   "mimetype": "text/x-python",
   "name": "python",
   "nbconvert_exporter": "python",
   "pygments_lexer": "ipython3",
   "version": "3.9.7"
  },
  "toc": {
   "base_numbering": 1,
   "nav_menu": {},
   "number_sections": true,
   "sideBar": true,
   "skip_h1_title": false,
   "title_cell": "Table of Contents",
   "title_sidebar": "Contents",
   "toc_cell": false,
   "toc_position": {},
   "toc_section_display": true,
   "toc_window_display": false
  },
  "varInspector": {
   "cols": {
    "lenName": 16,
    "lenType": 16,
    "lenVar": 40
   },
   "kernels_config": {
    "python": {
     "delete_cmd_postfix": "",
     "delete_cmd_prefix": "del ",
     "library": "var_list.py",
     "varRefreshCmd": "print(var_dic_list())"
    },
    "r": {
     "delete_cmd_postfix": ") ",
     "delete_cmd_prefix": "rm(",
     "library": "var_list.r",
     "varRefreshCmd": "cat(var_dic_list()) "
    }
   },
   "types_to_exclude": [
    "module",
    "function",
    "builtin_function_or_method",
    "instance",
    "_Feature"
   ],
   "window_display": false
  }
 },
 "nbformat": 4,
 "nbformat_minor": 4
}
